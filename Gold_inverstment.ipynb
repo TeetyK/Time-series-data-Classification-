{
 "cells": [
  {
   "cell_type": "markdown",
   "id": "e78f476a-72f7-4d1c-ae48-c96e97d270f7",
   "metadata": {},
   "source": [
    "# Gold"
   ]
  },
  {
   "cell_type": "code",
   "execution_count": 1,
   "id": "8510f48f-ede1-41a8-b135-98f51f2281be",
   "metadata": {
    "execution": {
     "iopub.execute_input": "2024-10-11T00:54:51.374195Z",
     "iopub.status.busy": "2024-10-11T00:54:51.374195Z",
     "iopub.status.idle": "2024-10-11T00:55:16.167247Z",
     "shell.execute_reply": "2024-10-11T00:55:16.167247Z",
     "shell.execute_reply.started": "2024-10-11T00:54:51.374195Z"
    }
   },
   "outputs": [],
   "source": [
    "import numpy as np\n",
    "import pandas as pd"
   ]
  },
  {
   "cell_type": "code",
   "execution_count": 120,
   "id": "7ca2ff23-ec66-4979-868c-566940aad7ed",
   "metadata": {
    "execution": {
     "iopub.execute_input": "2024-10-10T04:35:48.194072Z",
     "iopub.status.busy": "2024-10-10T04:35:48.194072Z",
     "iopub.status.idle": "2024-10-10T04:35:48.339749Z",
     "shell.execute_reply": "2024-10-10T04:35:48.339749Z",
     "shell.execute_reply.started": "2024-10-10T04:35:48.194072Z"
    }
   },
   "outputs": [],
   "source": [
    "xls = pd.ExcelFile(\"Raw_Data_D.xlsx\")\n",
    "Gold_data = pd.read_excel(xls,'Gold')"
   ]
  },
  {
   "cell_type": "code",
   "execution_count": 121,
   "id": "9a63f5ef-ec5d-4b70-bf06-5b8e833e2e95",
   "metadata": {
    "execution": {
     "iopub.execute_input": "2024-10-10T04:35:48.414259Z",
     "iopub.status.busy": "2024-10-10T04:35:48.414259Z",
     "iopub.status.idle": "2024-10-10T04:35:48.429522Z",
     "shell.execute_reply": "2024-10-10T04:35:48.428479Z",
     "shell.execute_reply.started": "2024-10-10T04:35:48.414259Z"
    }
   },
   "outputs": [
    {
     "data": {
      "text/plain": [
       "0       26700\n",
       "1       26850\n",
       "2       26950\n",
       "3       26950\n",
       "4       27300\n",
       "        ...  \n",
       "1327    40300\n",
       "1328    40600\n",
       "1329    40500\n",
       "1330    40400\n",
       "1331    40550\n",
       "Name: Goldbar_Sale, Length: 1332, dtype: int64"
      ]
     },
     "execution_count": 121,
     "metadata": {},
     "output_type": "execute_result"
    }
   ],
   "source": [
    "Gold_data['Goldbar_Sale']"
   ]
  },
  {
   "cell_type": "code",
   "execution_count": 122,
   "id": "3bafcf16-486e-41da-9010-58d11ba8996d",
   "metadata": {
    "execution": {
     "iopub.execute_input": "2024-10-10T04:35:48.681052Z",
     "iopub.status.busy": "2024-10-10T04:35:48.680056Z",
     "iopub.status.idle": "2024-10-10T04:35:48.685806Z",
     "shell.execute_reply": "2024-10-10T04:35:48.685806Z",
     "shell.execute_reply.started": "2024-10-10T04:35:48.681052Z"
    }
   },
   "outputs": [
    {
     "data": {
      "text/plain": [
       "Index(['Date', 'Goldbar_Buy', 'Goldbar_Sale', 'Goldjew_Buy', 'Goldjew_Sale'], dtype='object')"
      ]
     },
     "execution_count": 122,
     "metadata": {},
     "output_type": "execute_result"
    }
   ],
   "source": [
    "Gold_data.columns"
   ]
  },
  {
   "cell_type": "code",
   "execution_count": 123,
   "id": "ef2e7441-63ea-44a7-afb3-835eb7d75ea3",
   "metadata": {
    "execution": {
     "iopub.execute_input": "2024-10-10T04:35:48.959358Z",
     "iopub.status.busy": "2024-10-10T04:35:48.959358Z",
     "iopub.status.idle": "2024-10-10T04:35:48.968724Z",
     "shell.execute_reply": "2024-10-10T04:35:48.968724Z",
     "shell.execute_reply.started": "2024-10-10T04:35:48.959358Z"
    }
   },
   "outputs": [],
   "source": [
    "Data_ = pd.DataFrame()\n",
    "Data_['Report Date'] = Gold_data['Date']\n",
    "Data_['Gold'] = Gold_data['Goldbar_Sale']"
   ]
  },
  {
   "cell_type": "code",
   "execution_count": 125,
   "id": "2ceb4c8a-e436-43d7-9986-acd606fbb50f",
   "metadata": {
    "execution": {
     "iopub.execute_input": "2024-10-10T04:35:49.859837Z",
     "iopub.status.busy": "2024-10-10T04:35:49.858838Z",
     "iopub.status.idle": "2024-10-10T04:35:49.865049Z",
     "shell.execute_reply": "2024-10-10T04:35:49.865049Z",
     "shell.execute_reply.started": "2024-10-10T04:35:49.859837Z"
    }
   },
   "outputs": [],
   "source": [
    "Data_['%CHANGE'] = (Data_['Gold'] - Data_['Gold'].shift(1)) / (Data_['Gold'])"
   ]
  },
  {
   "cell_type": "code",
   "execution_count": 126,
   "id": "27bf5315-49ab-48e6-9f77-3c45085fd770",
   "metadata": {
    "execution": {
     "iopub.execute_input": "2024-10-10T04:35:50.676284Z",
     "iopub.status.busy": "2024-10-10T04:35:50.676284Z",
     "iopub.status.idle": "2024-10-10T04:35:50.700578Z",
     "shell.execute_reply": "2024-10-10T04:35:50.700578Z",
     "shell.execute_reply.started": "2024-10-10T04:35:50.676284Z"
    }
   },
   "outputs": [
    {
     "data": {
      "text/html": [
       "<div>\n",
       "<style scoped>\n",
       "    .dataframe tbody tr th:only-of-type {\n",
       "        vertical-align: middle;\n",
       "    }\n",
       "\n",
       "    .dataframe tbody tr th {\n",
       "        vertical-align: top;\n",
       "    }\n",
       "\n",
       "    .dataframe thead th {\n",
       "        text-align: right;\n",
       "    }\n",
       "</style>\n",
       "<table border=\"1\" class=\"dataframe\">\n",
       "  <thead>\n",
       "    <tr style=\"text-align: right;\">\n",
       "      <th></th>\n",
       "      <th>Report Date</th>\n",
       "      <th>Gold</th>\n",
       "      <th>%CHANGE</th>\n",
       "    </tr>\n",
       "  </thead>\n",
       "  <tbody>\n",
       "    <tr>\n",
       "      <th>0</th>\n",
       "      <td>2021-01-01</td>\n",
       "      <td>26700</td>\n",
       "      <td>NaN</td>\n",
       "    </tr>\n",
       "    <tr>\n",
       "      <th>1</th>\n",
       "      <td>2021-01-02</td>\n",
       "      <td>26850</td>\n",
       "      <td>0.005587</td>\n",
       "    </tr>\n",
       "    <tr>\n",
       "      <th>2</th>\n",
       "      <td>2021-01-03</td>\n",
       "      <td>26950</td>\n",
       "      <td>0.003711</td>\n",
       "    </tr>\n",
       "    <tr>\n",
       "      <th>3</th>\n",
       "      <td>2021-01-04</td>\n",
       "      <td>26950</td>\n",
       "      <td>0.000000</td>\n",
       "    </tr>\n",
       "    <tr>\n",
       "      <th>4</th>\n",
       "      <td>2021-01-06</td>\n",
       "      <td>27300</td>\n",
       "      <td>0.012821</td>\n",
       "    </tr>\n",
       "    <tr>\n",
       "      <th>...</th>\n",
       "      <td>...</td>\n",
       "      <td>...</td>\n",
       "      <td>...</td>\n",
       "    </tr>\n",
       "    <tr>\n",
       "      <th>1327</th>\n",
       "      <td>2024-08-27</td>\n",
       "      <td>40300</td>\n",
       "      <td>-0.003722</td>\n",
       "    </tr>\n",
       "    <tr>\n",
       "      <th>1328</th>\n",
       "      <td>2024-08-28</td>\n",
       "      <td>40600</td>\n",
       "      <td>0.007389</td>\n",
       "    </tr>\n",
       "    <tr>\n",
       "      <th>1329</th>\n",
       "      <td>2024-08-29</td>\n",
       "      <td>40500</td>\n",
       "      <td>-0.002469</td>\n",
       "    </tr>\n",
       "    <tr>\n",
       "      <th>1330</th>\n",
       "      <td>2024-08-30</td>\n",
       "      <td>40400</td>\n",
       "      <td>-0.002475</td>\n",
       "    </tr>\n",
       "    <tr>\n",
       "      <th>1331</th>\n",
       "      <td>2024-08-31</td>\n",
       "      <td>40550</td>\n",
       "      <td>0.003699</td>\n",
       "    </tr>\n",
       "  </tbody>\n",
       "</table>\n",
       "<p>1332 rows × 3 columns</p>\n",
       "</div>"
      ],
      "text/plain": [
       "     Report Date   Gold   %CHANGE\n",
       "0     2021-01-01  26700       NaN\n",
       "1     2021-01-02  26850  0.005587\n",
       "2     2021-01-03  26950  0.003711\n",
       "3     2021-01-04  26950  0.000000\n",
       "4     2021-01-06  27300  0.012821\n",
       "...          ...    ...       ...\n",
       "1327  2024-08-27  40300 -0.003722\n",
       "1328  2024-08-28  40600  0.007389\n",
       "1329  2024-08-29  40500 -0.002469\n",
       "1330  2024-08-30  40400 -0.002475\n",
       "1331  2024-08-31  40550  0.003699\n",
       "\n",
       "[1332 rows x 3 columns]"
      ]
     },
     "execution_count": 126,
     "metadata": {},
     "output_type": "execute_result"
    }
   ],
   "source": [
    "Data_"
   ]
  },
  {
   "cell_type": "code",
   "execution_count": 127,
   "id": "5376ee12-8224-486e-b5e8-9f45431ff4b4",
   "metadata": {
    "execution": {
     "iopub.execute_input": "2024-10-10T04:35:52.036787Z",
     "iopub.status.busy": "2024-10-10T04:35:52.035821Z",
     "iopub.status.idle": "2024-10-10T04:35:52.044205Z",
     "shell.execute_reply": "2024-10-10T04:35:52.043174Z",
     "shell.execute_reply.started": "2024-10-10T04:35:52.036787Z"
    }
   },
   "outputs": [
    {
     "name": "stderr",
     "output_type": "stream",
     "text": [
      "C:\\Users\\temp5\\AppData\\Local\\Temp\\ipykernel_38412\\8145372.py:1: FutureWarning: A value is trying to be set on a copy of a DataFrame or Series through chained assignment using an inplace method.\n",
      "The behavior will change in pandas 3.0. This inplace method will never work because the intermediate object on which we are setting values always behaves as a copy.\n",
      "\n",
      "For example, when doing 'df[col].method(value, inplace=True)', try using 'df.method({col: value}, inplace=True)' or df[col] = df[col].method(value) instead, to perform the operation inplace on the original object.\n",
      "\n",
      "\n",
      "  Data_['%CHANGE'].fillna(0, inplace=True)\n"
     ]
    }
   ],
   "source": [
    "Data_['%CHANGE'].fillna(0, inplace=True)"
   ]
  },
  {
   "cell_type": "markdown",
   "id": "2c8c5496-38d6-44e3-a4c6-1a646aa57890",
   "metadata": {},
   "source": [
    "สมมติว่า 1 คือ ไม่ควรลงทุน และ 0 คือควรลงทุน"
   ]
  },
  {
   "cell_type": "code",
   "execution_count": 128,
   "id": "abe400e0-bec2-4433-bc75-e3cb3bd38100",
   "metadata": {
    "execution": {
     "iopub.execute_input": "2024-10-10T04:35:53.092854Z",
     "iopub.status.busy": "2024-10-10T04:35:53.092138Z",
     "iopub.status.idle": "2024-10-10T04:35:53.097705Z",
     "shell.execute_reply": "2024-10-10T04:35:53.097705Z",
     "shell.execute_reply.started": "2024-10-10T04:35:53.092854Z"
    }
   },
   "outputs": [],
   "source": [
    "Data_['Decision'] = ['0' if i > 0 else '1' for i in Data_['%CHANGE']]"
   ]
  },
  {
   "cell_type": "code",
   "execution_count": 155,
   "id": "76e12505-368e-4809-bf85-6e15b1709bb4",
   "metadata": {
    "execution": {
     "iopub.execute_input": "2024-10-10T04:42:39.104898Z",
     "iopub.status.busy": "2024-10-10T04:42:39.104898Z",
     "iopub.status.idle": "2024-10-10T04:42:39.113956Z",
     "shell.execute_reply": "2024-10-10T04:42:39.113956Z",
     "shell.execute_reply.started": "2024-10-10T04:42:39.104898Z"
    }
   },
   "outputs": [],
   "source": [
    "Data_test = Data_[Data_['Report Date'] <= '2023-12-31']\n",
    "X = Data_test['%CHANGE'].values\n",
    "y = Data_test['Decision'].values"
   ]
  },
  {
   "cell_type": "code",
   "execution_count": 156,
   "id": "e8ccc1f3-c805-42a9-8f61-ee0b80943d3c",
   "metadata": {
    "execution": {
     "iopub.execute_input": "2024-10-10T04:42:39.678512Z",
     "iopub.status.busy": "2024-10-10T04:42:39.678512Z",
     "iopub.status.idle": "2024-10-10T04:42:39.692344Z",
     "shell.execute_reply": "2024-10-10T04:42:39.692344Z",
     "shell.execute_reply.started": "2024-10-10T04:42:39.678512Z"
    }
   },
   "outputs": [
    {
     "data": {
      "text/html": [
       "<div>\n",
       "<style scoped>\n",
       "    .dataframe tbody tr th:only-of-type {\n",
       "        vertical-align: middle;\n",
       "    }\n",
       "\n",
       "    .dataframe tbody tr th {\n",
       "        vertical-align: top;\n",
       "    }\n",
       "\n",
       "    .dataframe thead th {\n",
       "        text-align: right;\n",
       "    }\n",
       "</style>\n",
       "<table border=\"1\" class=\"dataframe\">\n",
       "  <thead>\n",
       "    <tr style=\"text-align: right;\">\n",
       "      <th></th>\n",
       "      <th>Report Date</th>\n",
       "      <th>Gold</th>\n",
       "      <th>%CHANGE</th>\n",
       "      <th>Decision</th>\n",
       "    </tr>\n",
       "  </thead>\n",
       "  <tbody>\n",
       "    <tr>\n",
       "      <th>0</th>\n",
       "      <td>2021-01-01</td>\n",
       "      <td>26700</td>\n",
       "      <td>0.000000</td>\n",
       "      <td>1</td>\n",
       "    </tr>\n",
       "    <tr>\n",
       "      <th>1</th>\n",
       "      <td>2021-01-02</td>\n",
       "      <td>26850</td>\n",
       "      <td>0.005587</td>\n",
       "      <td>0</td>\n",
       "    </tr>\n",
       "    <tr>\n",
       "      <th>2</th>\n",
       "      <td>2021-01-03</td>\n",
       "      <td>26950</td>\n",
       "      <td>0.003711</td>\n",
       "      <td>0</td>\n",
       "    </tr>\n",
       "    <tr>\n",
       "      <th>3</th>\n",
       "      <td>2021-01-04</td>\n",
       "      <td>26950</td>\n",
       "      <td>0.000000</td>\n",
       "      <td>1</td>\n",
       "    </tr>\n",
       "    <tr>\n",
       "      <th>4</th>\n",
       "      <td>2021-01-06</td>\n",
       "      <td>27300</td>\n",
       "      <td>0.012821</td>\n",
       "      <td>0</td>\n",
       "    </tr>\n",
       "    <tr>\n",
       "      <th>...</th>\n",
       "      <td>...</td>\n",
       "      <td>...</td>\n",
       "      <td>...</td>\n",
       "      <td>...</td>\n",
       "    </tr>\n",
       "    <tr>\n",
       "      <th>1083</th>\n",
       "      <td>2023-12-27</td>\n",
       "      <td>33700</td>\n",
       "      <td>0.002967</td>\n",
       "      <td>0</td>\n",
       "    </tr>\n",
       "    <tr>\n",
       "      <th>1084</th>\n",
       "      <td>2023-12-28</td>\n",
       "      <td>33800</td>\n",
       "      <td>0.002959</td>\n",
       "      <td>0</td>\n",
       "    </tr>\n",
       "    <tr>\n",
       "      <th>1085</th>\n",
       "      <td>2023-12-29</td>\n",
       "      <td>33700</td>\n",
       "      <td>-0.002967</td>\n",
       "      <td>1</td>\n",
       "    </tr>\n",
       "    <tr>\n",
       "      <th>1086</th>\n",
       "      <td>2023-12-30</td>\n",
       "      <td>33650</td>\n",
       "      <td>-0.001486</td>\n",
       "      <td>1</td>\n",
       "    </tr>\n",
       "    <tr>\n",
       "      <th>1087</th>\n",
       "      <td>2023-12-31</td>\n",
       "      <td>33650</td>\n",
       "      <td>0.000000</td>\n",
       "      <td>1</td>\n",
       "    </tr>\n",
       "  </tbody>\n",
       "</table>\n",
       "<p>1088 rows × 4 columns</p>\n",
       "</div>"
      ],
      "text/plain": [
       "     Report Date   Gold   %CHANGE Decision\n",
       "0     2021-01-01  26700  0.000000        1\n",
       "1     2021-01-02  26850  0.005587        0\n",
       "2     2021-01-03  26950  0.003711        0\n",
       "3     2021-01-04  26950  0.000000        1\n",
       "4     2021-01-06  27300  0.012821        0\n",
       "...          ...    ...       ...      ...\n",
       "1083  2023-12-27  33700  0.002967        0\n",
       "1084  2023-12-28  33800  0.002959        0\n",
       "1085  2023-12-29  33700 -0.002967        1\n",
       "1086  2023-12-30  33650 -0.001486        1\n",
       "1087  2023-12-31  33650  0.000000        1\n",
       "\n",
       "[1088 rows x 4 columns]"
      ]
     },
     "execution_count": 156,
     "metadata": {},
     "output_type": "execute_result"
    }
   ],
   "source": [
    "Data_test"
   ]
  },
  {
   "cell_type": "code",
   "execution_count": 157,
   "id": "9ba0877a-0f0b-429a-988a-3c5c53337cd0",
   "metadata": {
    "execution": {
     "iopub.execute_input": "2024-10-10T04:42:40.095803Z",
     "iopub.status.busy": "2024-10-10T04:42:40.095803Z",
     "iopub.status.idle": "2024-10-10T04:42:40.107720Z",
     "shell.execute_reply": "2024-10-10T04:42:40.107720Z",
     "shell.execute_reply.started": "2024-10-10T04:42:40.095803Z"
    }
   },
   "outputs": [],
   "source": [
    "X = X.reshape(-1,1)\n",
    "y = y.reshape(-1,1)"
   ]
  },
  {
   "cell_type": "code",
   "execution_count": 164,
   "id": "317cf074-21f4-4479-a097-523c565c001b",
   "metadata": {
    "execution": {
     "iopub.execute_input": "2024-10-10T04:42:48.535797Z",
     "iopub.status.busy": "2024-10-10T04:42:48.534773Z",
     "iopub.status.idle": "2024-10-10T04:42:48.538598Z",
     "shell.execute_reply": "2024-10-10T04:42:48.538598Z",
     "shell.execute_reply.started": "2024-10-10T04:42:48.535797Z"
    }
   },
   "outputs": [],
   "source": [
    "# pip install imblearn"
   ]
  },
  {
   "cell_type": "code",
   "execution_count": 159,
   "id": "dedc8596-0943-4ae5-941e-ca569d5294d1",
   "metadata": {
    "execution": {
     "iopub.execute_input": "2024-10-10T04:42:45.562436Z",
     "iopub.status.busy": "2024-10-10T04:42:45.561414Z",
     "iopub.status.idle": "2024-10-10T04:42:45.616105Z",
     "shell.execute_reply": "2024-10-10T04:42:45.616105Z",
     "shell.execute_reply.started": "2024-10-10T04:42:45.562436Z"
    },
    "scrolled": true
   },
   "outputs": [
    {
     "name": "stdout",
     "output_type": "stream",
     "text": [
      "Accuracy: 100.00%\n",
      "              precision    recall  f1-score   support\n",
      "\n",
      "           0       1.00      1.00      1.00       469\n",
      "           1       1.00      1.00      1.00       619\n",
      "\n",
      "    accuracy                           1.00      1088\n",
      "   macro avg       1.00      1.00      1.00      1088\n",
      "weighted avg       1.00      1.00      1.00      1088\n",
      "\n"
     ]
    },
    {
     "name": "stderr",
     "output_type": "stream",
     "text": [
      "C:\\Users\\temp5\\AppData\\Roaming\\Python\\Python312\\site-packages\\sklearn\\utils\\validation.py:1300: DataConversionWarning: A column-vector y was passed when a 1d array was expected. Please change the shape of y to (n_samples, ), for example using ravel().\n",
      "  y = column_or_1d(y, warn=True)\n"
     ]
    }
   ],
   "source": [
    "import numpy as np\n",
    "from sklearn.model_selection import train_test_split\n",
    "from sklearn.linear_model import LogisticRegression\n",
    "from sklearn.metrics import accuracy_score, classification_report\n",
    "from imblearn.over_sampling import SMOTE\n",
    "\n",
    "X_train, y_train = X ,y\n",
    "smote = SMOTE()\n",
    "X_resampled, y_resampled = smote.fit_resample(X_train, y_train)\n",
    "model = LogisticRegression(class_weight='balanced')\n",
    "\n",
    "model.fit(X_train, y_train)\n",
    "\n",
    "y_pred = model.predict(X_train)\n",
    "\n",
    "accuracy = accuracy_score(y_train, y_pred)\n",
    "print(f'Accuracy: {accuracy * 100:.2f}%')\n",
    "\n",
    "print(classification_report(y_train, y_pred))\n"
   ]
  },
  {
   "cell_type": "code",
   "execution_count": 165,
   "id": "a3380266-d6ba-4c88-8c59-caf6c0fed201",
   "metadata": {
    "execution": {
     "iopub.execute_input": "2024-10-10T04:42:59.281154Z",
     "iopub.status.busy": "2024-10-10T04:42:59.281154Z",
     "iopub.status.idle": "2024-10-10T04:42:59.290713Z",
     "shell.execute_reply": "2024-10-10T04:42:59.290713Z",
     "shell.execute_reply.started": "2024-10-10T04:42:59.281154Z"
    },
    "scrolled": true
   },
   "outputs": [
    {
     "name": "stderr",
     "output_type": "stream",
     "text": [
      "C:\\Users\\temp5\\AppData\\Local\\Temp\\ipykernel_38412\\177097520.py:1: SettingWithCopyWarning: \n",
      "A value is trying to be set on a copy of a slice from a DataFrame.\n",
      "Try using .loc[row_indexer,col_indexer] = value instead\n",
      "\n",
      "See the caveats in the documentation: https://pandas.pydata.org/pandas-docs/stable/user_guide/indexing.html#returning-a-view-versus-a-copy\n",
      "  Data_test['Predict'] = y_pred\n"
     ]
    }
   ],
   "source": [
    "Data_test['Predict'] = y_pred"
   ]
  },
  {
   "cell_type": "code",
   "execution_count": 166,
   "id": "911b40cd-c441-4d23-8c40-d3a296e4a9cb",
   "metadata": {
    "execution": {
     "iopub.execute_input": "2024-10-10T04:42:59.539635Z",
     "iopub.status.busy": "2024-10-10T04:42:59.538637Z",
     "iopub.status.idle": "2024-10-10T04:42:59.550422Z",
     "shell.execute_reply": "2024-10-10T04:42:59.550422Z",
     "shell.execute_reply.started": "2024-10-10T04:42:59.539635Z"
    }
   },
   "outputs": [
    {
     "data": {
      "text/html": [
       "<div>\n",
       "<style scoped>\n",
       "    .dataframe tbody tr th:only-of-type {\n",
       "        vertical-align: middle;\n",
       "    }\n",
       "\n",
       "    .dataframe tbody tr th {\n",
       "        vertical-align: top;\n",
       "    }\n",
       "\n",
       "    .dataframe thead th {\n",
       "        text-align: right;\n",
       "    }\n",
       "</style>\n",
       "<table border=\"1\" class=\"dataframe\">\n",
       "  <thead>\n",
       "    <tr style=\"text-align: right;\">\n",
       "      <th></th>\n",
       "      <th>Report Date</th>\n",
       "      <th>Gold</th>\n",
       "      <th>%CHANGE</th>\n",
       "      <th>Decision</th>\n",
       "      <th>Predict</th>\n",
       "      <th>Description</th>\n",
       "    </tr>\n",
       "  </thead>\n",
       "  <tbody>\n",
       "    <tr>\n",
       "      <th>0</th>\n",
       "      <td>2021-01-01</td>\n",
       "      <td>26700</td>\n",
       "      <td>0.000000</td>\n",
       "      <td>1</td>\n",
       "      <td>1</td>\n",
       "      <td>ไม่ควรลงทุน</td>\n",
       "    </tr>\n",
       "    <tr>\n",
       "      <th>1</th>\n",
       "      <td>2021-01-02</td>\n",
       "      <td>26850</td>\n",
       "      <td>0.005587</td>\n",
       "      <td>0</td>\n",
       "      <td>0</td>\n",
       "      <td>ควรลงทุน</td>\n",
       "    </tr>\n",
       "    <tr>\n",
       "      <th>2</th>\n",
       "      <td>2021-01-03</td>\n",
       "      <td>26950</td>\n",
       "      <td>0.003711</td>\n",
       "      <td>0</td>\n",
       "      <td>0</td>\n",
       "      <td>ควรลงทุน</td>\n",
       "    </tr>\n",
       "    <tr>\n",
       "      <th>3</th>\n",
       "      <td>2021-01-04</td>\n",
       "      <td>26950</td>\n",
       "      <td>0.000000</td>\n",
       "      <td>1</td>\n",
       "      <td>1</td>\n",
       "      <td>ไม่ควรลงทุน</td>\n",
       "    </tr>\n",
       "    <tr>\n",
       "      <th>4</th>\n",
       "      <td>2021-01-06</td>\n",
       "      <td>27300</td>\n",
       "      <td>0.012821</td>\n",
       "      <td>0</td>\n",
       "      <td>0</td>\n",
       "      <td>ควรลงทุน</td>\n",
       "    </tr>\n",
       "    <tr>\n",
       "      <th>...</th>\n",
       "      <td>...</td>\n",
       "      <td>...</td>\n",
       "      <td>...</td>\n",
       "      <td>...</td>\n",
       "      <td>...</td>\n",
       "      <td>...</td>\n",
       "    </tr>\n",
       "    <tr>\n",
       "      <th>1083</th>\n",
       "      <td>2023-12-27</td>\n",
       "      <td>33700</td>\n",
       "      <td>0.002967</td>\n",
       "      <td>0</td>\n",
       "      <td>0</td>\n",
       "      <td>ควรลงทุน</td>\n",
       "    </tr>\n",
       "    <tr>\n",
       "      <th>1084</th>\n",
       "      <td>2023-12-28</td>\n",
       "      <td>33800</td>\n",
       "      <td>0.002959</td>\n",
       "      <td>0</td>\n",
       "      <td>0</td>\n",
       "      <td>ควรลงทุน</td>\n",
       "    </tr>\n",
       "    <tr>\n",
       "      <th>1085</th>\n",
       "      <td>2023-12-29</td>\n",
       "      <td>33700</td>\n",
       "      <td>-0.002967</td>\n",
       "      <td>1</td>\n",
       "      <td>1</td>\n",
       "      <td>ไม่ควรลงทุน</td>\n",
       "    </tr>\n",
       "    <tr>\n",
       "      <th>1086</th>\n",
       "      <td>2023-12-30</td>\n",
       "      <td>33650</td>\n",
       "      <td>-0.001486</td>\n",
       "      <td>1</td>\n",
       "      <td>1</td>\n",
       "      <td>ไม่ควรลงทุน</td>\n",
       "    </tr>\n",
       "    <tr>\n",
       "      <th>1087</th>\n",
       "      <td>2023-12-31</td>\n",
       "      <td>33650</td>\n",
       "      <td>0.000000</td>\n",
       "      <td>1</td>\n",
       "      <td>1</td>\n",
       "      <td>ไม่ควรลงทุน</td>\n",
       "    </tr>\n",
       "  </tbody>\n",
       "</table>\n",
       "<p>1088 rows × 6 columns</p>\n",
       "</div>"
      ],
      "text/plain": [
       "     Report Date   Gold   %CHANGE Decision Predict  Description\n",
       "0     2021-01-01  26700  0.000000        1       1  ไม่ควรลงทุน\n",
       "1     2021-01-02  26850  0.005587        0       0     ควรลงทุน\n",
       "2     2021-01-03  26950  0.003711        0       0     ควรลงทุน\n",
       "3     2021-01-04  26950  0.000000        1       1  ไม่ควรลงทุน\n",
       "4     2021-01-06  27300  0.012821        0       0     ควรลงทุน\n",
       "...          ...    ...       ...      ...     ...          ...\n",
       "1083  2023-12-27  33700  0.002967        0       0     ควรลงทุน\n",
       "1084  2023-12-28  33800  0.002959        0       0     ควรลงทุน\n",
       "1085  2023-12-29  33700 -0.002967        1       1  ไม่ควรลงทุน\n",
       "1086  2023-12-30  33650 -0.001486        1       1  ไม่ควรลงทุน\n",
       "1087  2023-12-31  33650  0.000000        1       1  ไม่ควรลงทุน\n",
       "\n",
       "[1088 rows x 6 columns]"
      ]
     },
     "execution_count": 166,
     "metadata": {},
     "output_type": "execute_result"
    }
   ],
   "source": [
    "Data_test"
   ]
  },
  {
   "cell_type": "code",
   "execution_count": 167,
   "id": "bec70e18-1f1e-459a-9f98-33e9fa2c1118",
   "metadata": {
    "execution": {
     "iopub.execute_input": "2024-10-10T04:43:02.197911Z",
     "iopub.status.busy": "2024-10-10T04:43:02.196918Z",
     "iopub.status.idle": "2024-10-10T04:43:02.203591Z",
     "shell.execute_reply": "2024-10-10T04:43:02.203591Z",
     "shell.execute_reply.started": "2024-10-10T04:43:02.197911Z"
    }
   },
   "outputs": [
    {
     "name": "stderr",
     "output_type": "stream",
     "text": [
      "C:\\Users\\temp5\\AppData\\Local\\Temp\\ipykernel_38412\\3540882849.py:1: SettingWithCopyWarning: \n",
      "A value is trying to be set on a copy of a slice from a DataFrame.\n",
      "Try using .loc[row_indexer,col_indexer] = value instead\n",
      "\n",
      "See the caveats in the documentation: https://pandas.pydata.org/pandas-docs/stable/user_guide/indexing.html#returning-a-view-versus-a-copy\n",
      "  Data_test['Description'] = ['ไม่ควรลงทุน' if i == '1' else 'ควรลงทุน' for i in Data_test['Predict']]\n"
     ]
    }
   ],
   "source": [
    "Data_test['Description'] = ['ไม่ควรลงทุน' if i == '1' else 'ควรลงทุน' for i in Data_test['Predict']]"
   ]
  },
  {
   "cell_type": "code",
   "execution_count": 169,
   "id": "02b1f2c6-76ec-4ed7-a4e0-407b79e7174d",
   "metadata": {
    "execution": {
     "iopub.execute_input": "2024-10-10T04:43:11.282045Z",
     "iopub.status.busy": "2024-10-10T04:43:11.282045Z",
     "iopub.status.idle": "2024-10-10T04:43:11.295032Z",
     "shell.execute_reply": "2024-10-10T04:43:11.294031Z",
     "shell.execute_reply.started": "2024-10-10T04:43:11.282045Z"
    }
   },
   "outputs": [
    {
     "data": {
      "text/html": [
       "<div>\n",
       "<style scoped>\n",
       "    .dataframe tbody tr th:only-of-type {\n",
       "        vertical-align: middle;\n",
       "    }\n",
       "\n",
       "    .dataframe tbody tr th {\n",
       "        vertical-align: top;\n",
       "    }\n",
       "\n",
       "    .dataframe thead th {\n",
       "        text-align: right;\n",
       "    }\n",
       "</style>\n",
       "<table border=\"1\" class=\"dataframe\">\n",
       "  <thead>\n",
       "    <tr style=\"text-align: right;\">\n",
       "      <th></th>\n",
       "      <th>Report Date</th>\n",
       "      <th>Gold</th>\n",
       "      <th>%CHANGE</th>\n",
       "      <th>Decision</th>\n",
       "      <th>Predict</th>\n",
       "      <th>Description</th>\n",
       "    </tr>\n",
       "  </thead>\n",
       "  <tbody>\n",
       "    <tr>\n",
       "      <th>1</th>\n",
       "      <td>2021-01-02</td>\n",
       "      <td>26850</td>\n",
       "      <td>0.005587</td>\n",
       "      <td>0</td>\n",
       "      <td>0</td>\n",
       "      <td>ควรลงทุน</td>\n",
       "    </tr>\n",
       "    <tr>\n",
       "      <th>2</th>\n",
       "      <td>2021-01-03</td>\n",
       "      <td>26950</td>\n",
       "      <td>0.003711</td>\n",
       "      <td>0</td>\n",
       "      <td>0</td>\n",
       "      <td>ควรลงทุน</td>\n",
       "    </tr>\n",
       "    <tr>\n",
       "      <th>4</th>\n",
       "      <td>2021-01-06</td>\n",
       "      <td>27300</td>\n",
       "      <td>0.012821</td>\n",
       "      <td>0</td>\n",
       "      <td>0</td>\n",
       "      <td>ควรลงทุน</td>\n",
       "    </tr>\n",
       "    <tr>\n",
       "      <th>5</th>\n",
       "      <td>2021-01-07</td>\n",
       "      <td>27550</td>\n",
       "      <td>0.009074</td>\n",
       "      <td>0</td>\n",
       "      <td>0</td>\n",
       "      <td>ควรลงทุน</td>\n",
       "    </tr>\n",
       "    <tr>\n",
       "      <th>6</th>\n",
       "      <td>2021-01-08</td>\n",
       "      <td>27650</td>\n",
       "      <td>0.003617</td>\n",
       "      <td>0</td>\n",
       "      <td>0</td>\n",
       "      <td>ควรลงทุน</td>\n",
       "    </tr>\n",
       "    <tr>\n",
       "      <th>...</th>\n",
       "      <td>...</td>\n",
       "      <td>...</td>\n",
       "      <td>...</td>\n",
       "      <td>...</td>\n",
       "      <td>...</td>\n",
       "      <td>...</td>\n",
       "    </tr>\n",
       "    <tr>\n",
       "      <th>1076</th>\n",
       "      <td>2023-12-20</td>\n",
       "      <td>33550</td>\n",
       "      <td>0.008942</td>\n",
       "      <td>0</td>\n",
       "      <td>0</td>\n",
       "      <td>ควรลงทุน</td>\n",
       "    </tr>\n",
       "    <tr>\n",
       "      <th>1077</th>\n",
       "      <td>2023-12-21</td>\n",
       "      <td>33600</td>\n",
       "      <td>0.001488</td>\n",
       "      <td>0</td>\n",
       "      <td>0</td>\n",
       "      <td>ควรลงทุน</td>\n",
       "    </tr>\n",
       "    <tr>\n",
       "      <th>1078</th>\n",
       "      <td>2023-12-22</td>\n",
       "      <td>33700</td>\n",
       "      <td>0.002967</td>\n",
       "      <td>0</td>\n",
       "      <td>0</td>\n",
       "      <td>ควรลงทุน</td>\n",
       "    </tr>\n",
       "    <tr>\n",
       "      <th>1083</th>\n",
       "      <td>2023-12-27</td>\n",
       "      <td>33700</td>\n",
       "      <td>0.002967</td>\n",
       "      <td>0</td>\n",
       "      <td>0</td>\n",
       "      <td>ควรลงทุน</td>\n",
       "    </tr>\n",
       "    <tr>\n",
       "      <th>1084</th>\n",
       "      <td>2023-12-28</td>\n",
       "      <td>33800</td>\n",
       "      <td>0.002959</td>\n",
       "      <td>0</td>\n",
       "      <td>0</td>\n",
       "      <td>ควรลงทุน</td>\n",
       "    </tr>\n",
       "  </tbody>\n",
       "</table>\n",
       "<p>469 rows × 6 columns</p>\n",
       "</div>"
      ],
      "text/plain": [
       "     Report Date   Gold   %CHANGE Decision Predict Description\n",
       "1     2021-01-02  26850  0.005587        0       0    ควรลงทุน\n",
       "2     2021-01-03  26950  0.003711        0       0    ควรลงทุน\n",
       "4     2021-01-06  27300  0.012821        0       0    ควรลงทุน\n",
       "5     2021-01-07  27550  0.009074        0       0    ควรลงทุน\n",
       "6     2021-01-08  27650  0.003617        0       0    ควรลงทุน\n",
       "...          ...    ...       ...      ...     ...         ...\n",
       "1076  2023-12-20  33550  0.008942        0       0    ควรลงทุน\n",
       "1077  2023-12-21  33600  0.001488        0       0    ควรลงทุน\n",
       "1078  2023-12-22  33700  0.002967        0       0    ควรลงทุน\n",
       "1083  2023-12-27  33700  0.002967        0       0    ควรลงทุน\n",
       "1084  2023-12-28  33800  0.002959        0       0    ควรลงทุน\n",
       "\n",
       "[469 rows x 6 columns]"
      ]
     },
     "execution_count": 169,
     "metadata": {},
     "output_type": "execute_result"
    }
   ],
   "source": [
    "Data_test[Data_test['Predict'] == '0']"
   ]
  },
  {
   "cell_type": "code",
   "execution_count": 170,
   "id": "c1ce3002-058a-425c-87c2-ee955d963fd1",
   "metadata": {
    "execution": {
     "iopub.execute_input": "2024-10-10T04:43:53.634086Z",
     "iopub.status.busy": "2024-10-10T04:43:53.634086Z",
     "iopub.status.idle": "2024-10-10T04:43:53.649094Z",
     "shell.execute_reply": "2024-10-10T04:43:53.649094Z",
     "shell.execute_reply.started": "2024-10-10T04:43:53.634086Z"
    }
   },
   "outputs": [
    {
     "data": {
      "text/html": [
       "<div>\n",
       "<style scoped>\n",
       "    .dataframe tbody tr th:only-of-type {\n",
       "        vertical-align: middle;\n",
       "    }\n",
       "\n",
       "    .dataframe tbody tr th {\n",
       "        vertical-align: top;\n",
       "    }\n",
       "\n",
       "    .dataframe thead th {\n",
       "        text-align: right;\n",
       "    }\n",
       "</style>\n",
       "<table border=\"1\" class=\"dataframe\">\n",
       "  <thead>\n",
       "    <tr style=\"text-align: right;\">\n",
       "      <th></th>\n",
       "      <th>Report Date</th>\n",
       "      <th>Gold</th>\n",
       "      <th>%CHANGE</th>\n",
       "      <th>Decision</th>\n",
       "    </tr>\n",
       "  </thead>\n",
       "  <tbody>\n",
       "    <tr>\n",
       "      <th>1088</th>\n",
       "      <td>2024-01-01</td>\n",
       "      <td>33650</td>\n",
       "      <td>0.000000</td>\n",
       "      <td>1</td>\n",
       "    </tr>\n",
       "    <tr>\n",
       "      <th>1089</th>\n",
       "      <td>2024-01-02</td>\n",
       "      <td>33650</td>\n",
       "      <td>0.000000</td>\n",
       "      <td>1</td>\n",
       "    </tr>\n",
       "    <tr>\n",
       "      <th>1090</th>\n",
       "      <td>2024-01-03</td>\n",
       "      <td>33650</td>\n",
       "      <td>0.000000</td>\n",
       "      <td>1</td>\n",
       "    </tr>\n",
       "    <tr>\n",
       "      <th>1091</th>\n",
       "      <td>2024-01-04</td>\n",
       "      <td>33600</td>\n",
       "      <td>-0.001488</td>\n",
       "      <td>1</td>\n",
       "    </tr>\n",
       "    <tr>\n",
       "      <th>1092</th>\n",
       "      <td>2024-01-05</td>\n",
       "      <td>33500</td>\n",
       "      <td>-0.002985</td>\n",
       "      <td>1</td>\n",
       "    </tr>\n",
       "    <tr>\n",
       "      <th>...</th>\n",
       "      <td>...</td>\n",
       "      <td>...</td>\n",
       "      <td>...</td>\n",
       "      <td>...</td>\n",
       "    </tr>\n",
       "    <tr>\n",
       "      <th>1327</th>\n",
       "      <td>2024-08-27</td>\n",
       "      <td>40300</td>\n",
       "      <td>-0.003722</td>\n",
       "      <td>1</td>\n",
       "    </tr>\n",
       "    <tr>\n",
       "      <th>1328</th>\n",
       "      <td>2024-08-28</td>\n",
       "      <td>40600</td>\n",
       "      <td>0.007389</td>\n",
       "      <td>0</td>\n",
       "    </tr>\n",
       "    <tr>\n",
       "      <th>1329</th>\n",
       "      <td>2024-08-29</td>\n",
       "      <td>40500</td>\n",
       "      <td>-0.002469</td>\n",
       "      <td>1</td>\n",
       "    </tr>\n",
       "    <tr>\n",
       "      <th>1330</th>\n",
       "      <td>2024-08-30</td>\n",
       "      <td>40400</td>\n",
       "      <td>-0.002475</td>\n",
       "      <td>1</td>\n",
       "    </tr>\n",
       "    <tr>\n",
       "      <th>1331</th>\n",
       "      <td>2024-08-31</td>\n",
       "      <td>40550</td>\n",
       "      <td>0.003699</td>\n",
       "      <td>0</td>\n",
       "    </tr>\n",
       "  </tbody>\n",
       "</table>\n",
       "<p>244 rows × 4 columns</p>\n",
       "</div>"
      ],
      "text/plain": [
       "     Report Date   Gold   %CHANGE Decision\n",
       "1088  2024-01-01  33650  0.000000        1\n",
       "1089  2024-01-02  33650  0.000000        1\n",
       "1090  2024-01-03  33650  0.000000        1\n",
       "1091  2024-01-04  33600 -0.001488        1\n",
       "1092  2024-01-05  33500 -0.002985        1\n",
       "...          ...    ...       ...      ...\n",
       "1327  2024-08-27  40300 -0.003722        1\n",
       "1328  2024-08-28  40600  0.007389        0\n",
       "1329  2024-08-29  40500 -0.002469        1\n",
       "1330  2024-08-30  40400 -0.002475        1\n",
       "1331  2024-08-31  40550  0.003699        0\n",
       "\n",
       "[244 rows x 4 columns]"
      ]
     },
     "execution_count": 170,
     "metadata": {},
     "output_type": "execute_result"
    }
   ],
   "source": [
    "Data_act = Data_[Data_['Report Date'] > '2023-12-31']\n",
    "Data_act"
   ]
  },
  {
   "cell_type": "code",
   "execution_count": 171,
   "id": "a2a3636d-021b-4022-9379-d37cbb886547",
   "metadata": {
    "execution": {
     "iopub.execute_input": "2024-10-10T04:44:49.445597Z",
     "iopub.status.busy": "2024-10-10T04:44:49.441561Z",
     "iopub.status.idle": "2024-10-10T04:44:49.449215Z",
     "shell.execute_reply": "2024-10-10T04:44:49.449215Z",
     "shell.execute_reply.started": "2024-10-10T04:44:49.445597Z"
    }
   },
   "outputs": [],
   "source": [
    "G_CH = Data_act['%CHANGE'].values"
   ]
  },
  {
   "cell_type": "code",
   "execution_count": 176,
   "id": "5ad3d779-0d2e-489b-8c56-87414902f8c2",
   "metadata": {
    "execution": {
     "iopub.execute_input": "2024-10-10T04:46:16.098400Z",
     "iopub.status.busy": "2024-10-10T04:46:16.098400Z",
     "iopub.status.idle": "2024-10-10T04:46:16.106538Z",
     "shell.execute_reply": "2024-10-10T04:46:16.106538Z",
     "shell.execute_reply.started": "2024-10-10T04:46:16.098400Z"
    },
    "scrolled": true
   },
   "outputs": [],
   "source": [
    "G_CH = G_CH.reshape(-1,1)"
   ]
  },
  {
   "cell_type": "code",
   "execution_count": 177,
   "id": "49ac688a-f928-4cbc-a0e3-a66a0ba4a9c7",
   "metadata": {
    "execution": {
     "iopub.execute_input": "2024-10-10T04:46:16.401585Z",
     "iopub.status.busy": "2024-10-10T04:46:16.401585Z",
     "iopub.status.idle": "2024-10-10T04:46:16.413917Z",
     "shell.execute_reply": "2024-10-10T04:46:16.412913Z",
     "shell.execute_reply.started": "2024-10-10T04:46:16.401585Z"
    },
    "scrolled": true
   },
   "outputs": [],
   "source": [
    "y_pred_g_ch = model.predict(G_CH)"
   ]
  },
  {
   "cell_type": "code",
   "execution_count": 178,
   "id": "eec49330-a404-42aa-b438-9bd9c37b54d4",
   "metadata": {
    "execution": {
     "iopub.execute_input": "2024-10-10T04:46:21.522088Z",
     "iopub.status.busy": "2024-10-10T04:46:21.522088Z",
     "iopub.status.idle": "2024-10-10T04:46:21.532359Z",
     "shell.execute_reply": "2024-10-10T04:46:21.532359Z",
     "shell.execute_reply.started": "2024-10-10T04:46:21.522088Z"
    },
    "scrolled": true
   },
   "outputs": [
    {
     "data": {
      "text/plain": [
       "array(['1', '1', '1', '1', '1', '1', '0', '0', '0', '1', '0', '0', '1',\n",
       "       '0', '0', '1', '0', '0', '1', '1', '0', '1', '1', '1', '0', '0',\n",
       "       '1', '1', '1', '1', '0', '1', '0', '0', '0', '0', '0', '1', '1',\n",
       "       '0', '0', '0', '1', '0', '1', '1', '1', '0', '0', '0', '1', '0',\n",
       "       '0', '1', '1', '0', '0', '1', '1', '1', '0', '1', '0', '0', '1',\n",
       "       '0', '0', '1', '0', '1', '0', '1', '0', '0', '1', '0', '0', '1',\n",
       "       '1', '1', '0', '0', '0', '1', '1', '1', '0', '0', '0', '0', '0',\n",
       "       '1', '1', '0', '0', '0', '0', '1', '0', '1', '0', '1', '1', '1',\n",
       "       '0', '1', '1', '0', '0', '0', '1', '0', '0', '0', '1', '1', '0',\n",
       "       '0', '0', '1', '1', '0', '1', '1', '1', '1', '1', '1', '0', '0',\n",
       "       '1', '1', '0', '1', '0', '1', '1', '0', '1', '0', '0', '1', '0',\n",
       "       '1', '0', '1', '1', '1', '1', '0', '1', '0', '1', '0', '1', '0',\n",
       "       '1', '1', '0', '0', '0', '1', '0', '1', '0', '0', '1', '0', '0',\n",
       "       '1', '1', '1', '0', '0', '0', '1', '0', '1', '0', '1', '1', '0',\n",
       "       '1', '1', '1', '0', '0', '0', '0', '0', '0', '1', '1', '0', '0',\n",
       "       '0', '0', '1', '0', '0', '0', '1', '1', '1', '0', '1', '1', '1',\n",
       "       '1', '1', '0', '1', '0', '1', '0', '0', '0', '1', '0', '1', '0',\n",
       "       '1', '1', '0', '0', '1', '0', '0', '1', '1', '0', '0', '0', '1',\n",
       "       '1', '1', '0', '1', '1', '1', '0', '1', '1', '0'], dtype=object)"
      ]
     },
     "execution_count": 178,
     "metadata": {},
     "output_type": "execute_result"
    }
   ],
   "source": [
    "y_pred_g_ch"
   ]
  },
  {
   "cell_type": "code",
   "execution_count": 179,
   "id": "243a5136-2b0c-4c63-84ee-12dbd83efeab",
   "metadata": {
    "execution": {
     "iopub.execute_input": "2024-10-10T04:46:44.614058Z",
     "iopub.status.busy": "2024-10-10T04:46:44.613060Z",
     "iopub.status.idle": "2024-10-10T04:46:44.619450Z",
     "shell.execute_reply": "2024-10-10T04:46:44.618420Z",
     "shell.execute_reply.started": "2024-10-10T04:46:44.614058Z"
    }
   },
   "outputs": [
    {
     "name": "stderr",
     "output_type": "stream",
     "text": [
      "C:\\Users\\temp5\\AppData\\Local\\Temp\\ipykernel_38412\\2767827990.py:1: SettingWithCopyWarning: \n",
      "A value is trying to be set on a copy of a slice from a DataFrame.\n",
      "Try using .loc[row_indexer,col_indexer] = value instead\n",
      "\n",
      "See the caveats in the documentation: https://pandas.pydata.org/pandas-docs/stable/user_guide/indexing.html#returning-a-view-versus-a-copy\n",
      "  Data_act['Predict'] = y_pred_g_ch\n"
     ]
    }
   ],
   "source": [
    "Data_act['Predict'] = y_pred_g_ch"
   ]
  },
  {
   "cell_type": "code",
   "execution_count": 180,
   "id": "0c8b215c-8f85-4782-a94e-af711d3dfa6e",
   "metadata": {
    "execution": {
     "iopub.execute_input": "2024-10-10T04:47:02.770315Z",
     "iopub.status.busy": "2024-10-10T04:47:02.770315Z",
     "iopub.status.idle": "2024-10-10T04:47:02.781132Z",
     "shell.execute_reply": "2024-10-10T04:47:02.780132Z",
     "shell.execute_reply.started": "2024-10-10T04:47:02.770315Z"
    }
   },
   "outputs": [
    {
     "name": "stderr",
     "output_type": "stream",
     "text": [
      "C:\\Users\\temp5\\AppData\\Local\\Temp\\ipykernel_38412\\3153019499.py:1: SettingWithCopyWarning: \n",
      "A value is trying to be set on a copy of a slice from a DataFrame.\n",
      "Try using .loc[row_indexer,col_indexer] = value instead\n",
      "\n",
      "See the caveats in the documentation: https://pandas.pydata.org/pandas-docs/stable/user_guide/indexing.html#returning-a-view-versus-a-copy\n",
      "  Data_act['Description'] = ['ไม่ควรลงทุน' if i == '1' else 'ควรลงทุน' for i in Data_act['Predict']]\n"
     ]
    }
   ],
   "source": [
    "Data_act['Description'] = ['ไม่ควรลงทุน' if i == '1' else 'ควรลงทุน' for i in Data_act['Predict']]"
   ]
  },
  {
   "cell_type": "code",
   "execution_count": 181,
   "id": "971ac9de-200a-4405-8b67-857d8939e1d1",
   "metadata": {
    "execution": {
     "iopub.execute_input": "2024-10-10T04:47:06.754567Z",
     "iopub.status.busy": "2024-10-10T04:47:06.754567Z",
     "iopub.status.idle": "2024-10-10T04:47:06.769434Z",
     "shell.execute_reply": "2024-10-10T04:47:06.769434Z",
     "shell.execute_reply.started": "2024-10-10T04:47:06.754567Z"
    }
   },
   "outputs": [
    {
     "data": {
      "text/html": [
       "<div>\n",
       "<style scoped>\n",
       "    .dataframe tbody tr th:only-of-type {\n",
       "        vertical-align: middle;\n",
       "    }\n",
       "\n",
       "    .dataframe tbody tr th {\n",
       "        vertical-align: top;\n",
       "    }\n",
       "\n",
       "    .dataframe thead th {\n",
       "        text-align: right;\n",
       "    }\n",
       "</style>\n",
       "<table border=\"1\" class=\"dataframe\">\n",
       "  <thead>\n",
       "    <tr style=\"text-align: right;\">\n",
       "      <th></th>\n",
       "      <th>Report Date</th>\n",
       "      <th>Gold</th>\n",
       "      <th>%CHANGE</th>\n",
       "      <th>Decision</th>\n",
       "      <th>Predict</th>\n",
       "      <th>Description</th>\n",
       "    </tr>\n",
       "  </thead>\n",
       "  <tbody>\n",
       "    <tr>\n",
       "      <th>1088</th>\n",
       "      <td>2024-01-01</td>\n",
       "      <td>33650</td>\n",
       "      <td>0.000000</td>\n",
       "      <td>1</td>\n",
       "      <td>1</td>\n",
       "      <td>ไม่ควรลงทุน</td>\n",
       "    </tr>\n",
       "    <tr>\n",
       "      <th>1089</th>\n",
       "      <td>2024-01-02</td>\n",
       "      <td>33650</td>\n",
       "      <td>0.000000</td>\n",
       "      <td>1</td>\n",
       "      <td>1</td>\n",
       "      <td>ไม่ควรลงทุน</td>\n",
       "    </tr>\n",
       "    <tr>\n",
       "      <th>1090</th>\n",
       "      <td>2024-01-03</td>\n",
       "      <td>33650</td>\n",
       "      <td>0.000000</td>\n",
       "      <td>1</td>\n",
       "      <td>1</td>\n",
       "      <td>ไม่ควรลงทุน</td>\n",
       "    </tr>\n",
       "    <tr>\n",
       "      <th>1091</th>\n",
       "      <td>2024-01-04</td>\n",
       "      <td>33600</td>\n",
       "      <td>-0.001488</td>\n",
       "      <td>1</td>\n",
       "      <td>1</td>\n",
       "      <td>ไม่ควรลงทุน</td>\n",
       "    </tr>\n",
       "    <tr>\n",
       "      <th>1092</th>\n",
       "      <td>2024-01-05</td>\n",
       "      <td>33500</td>\n",
       "      <td>-0.002985</td>\n",
       "      <td>1</td>\n",
       "      <td>1</td>\n",
       "      <td>ไม่ควรลงทุน</td>\n",
       "    </tr>\n",
       "    <tr>\n",
       "      <th>...</th>\n",
       "      <td>...</td>\n",
       "      <td>...</td>\n",
       "      <td>...</td>\n",
       "      <td>...</td>\n",
       "      <td>...</td>\n",
       "      <td>...</td>\n",
       "    </tr>\n",
       "    <tr>\n",
       "      <th>1327</th>\n",
       "      <td>2024-08-27</td>\n",
       "      <td>40300</td>\n",
       "      <td>-0.003722</td>\n",
       "      <td>1</td>\n",
       "      <td>1</td>\n",
       "      <td>ไม่ควรลงทุน</td>\n",
       "    </tr>\n",
       "    <tr>\n",
       "      <th>1328</th>\n",
       "      <td>2024-08-28</td>\n",
       "      <td>40600</td>\n",
       "      <td>0.007389</td>\n",
       "      <td>0</td>\n",
       "      <td>0</td>\n",
       "      <td>ควรลงทุน</td>\n",
       "    </tr>\n",
       "    <tr>\n",
       "      <th>1329</th>\n",
       "      <td>2024-08-29</td>\n",
       "      <td>40500</td>\n",
       "      <td>-0.002469</td>\n",
       "      <td>1</td>\n",
       "      <td>1</td>\n",
       "      <td>ไม่ควรลงทุน</td>\n",
       "    </tr>\n",
       "    <tr>\n",
       "      <th>1330</th>\n",
       "      <td>2024-08-30</td>\n",
       "      <td>40400</td>\n",
       "      <td>-0.002475</td>\n",
       "      <td>1</td>\n",
       "      <td>1</td>\n",
       "      <td>ไม่ควรลงทุน</td>\n",
       "    </tr>\n",
       "    <tr>\n",
       "      <th>1331</th>\n",
       "      <td>2024-08-31</td>\n",
       "      <td>40550</td>\n",
       "      <td>0.003699</td>\n",
       "      <td>0</td>\n",
       "      <td>0</td>\n",
       "      <td>ควรลงทุน</td>\n",
       "    </tr>\n",
       "  </tbody>\n",
       "</table>\n",
       "<p>244 rows × 6 columns</p>\n",
       "</div>"
      ],
      "text/plain": [
       "     Report Date   Gold   %CHANGE Decision Predict  Description\n",
       "1088  2024-01-01  33650  0.000000        1       1  ไม่ควรลงทุน\n",
       "1089  2024-01-02  33650  0.000000        1       1  ไม่ควรลงทุน\n",
       "1090  2024-01-03  33650  0.000000        1       1  ไม่ควรลงทุน\n",
       "1091  2024-01-04  33600 -0.001488        1       1  ไม่ควรลงทุน\n",
       "1092  2024-01-05  33500 -0.002985        1       1  ไม่ควรลงทุน\n",
       "...          ...    ...       ...      ...     ...          ...\n",
       "1327  2024-08-27  40300 -0.003722        1       1  ไม่ควรลงทุน\n",
       "1328  2024-08-28  40600  0.007389        0       0     ควรลงทุน\n",
       "1329  2024-08-29  40500 -0.002469        1       1  ไม่ควรลงทุน\n",
       "1330  2024-08-30  40400 -0.002475        1       1  ไม่ควรลงทุน\n",
       "1331  2024-08-31  40550  0.003699        0       0     ควรลงทุน\n",
       "\n",
       "[244 rows x 6 columns]"
      ]
     },
     "execution_count": 181,
     "metadata": {},
     "output_type": "execute_result"
    }
   ],
   "source": [
    "Data_act"
   ]
  },
  {
   "cell_type": "code",
   "execution_count": 189,
   "id": "2de9c275-51fb-4966-b4db-90c6a8fdfafe",
   "metadata": {
    "execution": {
     "iopub.execute_input": "2024-10-10T04:56:26.674979Z",
     "iopub.status.busy": "2024-10-10T04:56:26.674979Z",
     "iopub.status.idle": "2024-10-10T04:56:26.683729Z",
     "shell.execute_reply": "2024-10-10T04:56:26.683729Z",
     "shell.execute_reply.started": "2024-10-10T04:56:26.674979Z"
    }
   },
   "outputs": [],
   "source": [
    "dates = Data_act['Report Date']\n",
    "predictions = Data_act['Predict'].values\n",
    "gold_prices = Data_act['Gold'].values"
   ]
  },
  {
   "cell_type": "code",
   "execution_count": 185,
   "id": "9f1c8af7-b0f6-49b5-bf0d-9bd299627d8d",
   "metadata": {
    "execution": {
     "iopub.execute_input": "2024-10-10T04:55:35.880600Z",
     "iopub.status.busy": "2024-10-10T04:55:35.874867Z",
     "iopub.status.idle": "2024-10-10T04:55:38.439681Z",
     "shell.execute_reply": "2024-10-10T04:55:38.439681Z",
     "shell.execute_reply.started": "2024-10-10T04:55:35.880600Z"
    }
   },
   "outputs": [],
   "source": [
    "import matplotlib.pyplot as plt"
   ]
  },
  {
   "cell_type": "code",
   "execution_count": 195,
   "id": "efaac9b2-d2e7-435a-ac87-2168eb73c3e8",
   "metadata": {
    "execution": {
     "iopub.execute_input": "2024-10-10T04:58:52.281135Z",
     "iopub.status.busy": "2024-10-10T04:58:52.281135Z",
     "iopub.status.idle": "2024-10-10T04:58:52.652110Z",
     "shell.execute_reply": "2024-10-10T04:58:52.652110Z",
     "shell.execute_reply.started": "2024-10-10T04:58:52.281135Z"
    }
   },
   "outputs": [
    {
     "name": "stderr",
     "output_type": "stream",
     "text": [
      "C:\\Users\\temp5\\AppData\\Local\\Temp\\ipykernel_38412\\3777399354.py:12: UserWarning: No artists with labels found to put in legend.  Note that artists whose label start with an underscore are ignored when legend() is called with no argument.\n",
      "  plt.legend(loc='upper left')\n"
     ]
    },
    {
     "data": {
      "image/png": "[encoded data removed]",
      "text/plain": [
       "<Figure size 1000x600 with 1 Axes>"
      ]
     },
     "metadata": {},
     "output_type": "display_data"
    }
   ],
   "source": [
    "plt.figure(figsize=(10, 6))\n",
    "\n",
    "for i in range(len(Data_act) - 1):\n",
    "    if predictions[i] == '0':\n",
    "        plt.plot(dates[i:i+2], gold_prices[i:i+2], color='green', lw=2, label='Invest' if i == '0' else \"\")\n",
    "    else:\n",
    "        plt.plot(dates[i:i+2], gold_prices[i:i+2], color='red', lw=2, label='Don\\'t Invest' if i == '1' else \"\")\n",
    "\n",
    "plt.xlabel('Day')\n",
    "plt.ylabel('Gold Price')\n",
    "plt.title('Gold Price with Investment Decision')\n",
    "plt.legend(loc='upper left')\n",
    "plt.show()"
   ]
  },
  {
   "cell_type": "markdown",
   "id": "f40599c2-1712-40c7-9679-d9f8ccaa0b6c",
   "metadata": {},
   "source": [
    "# XAU_USD"
   ]
  },
  {
   "cell_type": "code",
   "execution_count": 7,
   "id": "b269a540-3f48-4bdd-966a-833927d0770a",
   "metadata": {
    "execution": {
     "iopub.execute_input": "2024-10-11T00:59:15.416611Z",
     "iopub.status.busy": "2024-10-11T00:59:15.416611Z",
     "iopub.status.idle": "2024-10-11T00:59:15.430709Z",
     "shell.execute_reply": "2024-10-11T00:59:15.430709Z",
     "shell.execute_reply.started": "2024-10-11T00:59:15.416611Z"
    },
    "scrolled": true
   },
   "outputs": [],
   "source": [
    "XAU_data = pd.read_csv('RawData_XAU_USD.csv')"
   ]
  },
  {
   "cell_type": "code",
   "execution_count": 8,
   "id": "0d727264-53fc-414c-9951-a85e583271b9",
   "metadata": {
    "execution": {
     "iopub.execute_input": "2024-10-11T00:59:20.935987Z",
     "iopub.status.busy": "2024-10-11T00:59:20.935987Z",
     "iopub.status.idle": "2024-10-11T00:59:21.489045Z",
     "shell.execute_reply": "2024-10-11T00:59:21.489045Z",
     "shell.execute_reply.started": "2024-10-11T00:59:20.935987Z"
    }
   },
   "outputs": [
    {
     "data": {
      "text/html": [
       "<div>\n",
       "<style scoped>\n",
       "    .dataframe tbody tr th:only-of-type {\n",
       "        vertical-align: middle;\n",
       "    }\n",
       "\n",
       "    .dataframe tbody tr th {\n",
       "        vertical-align: top;\n",
       "    }\n",
       "\n",
       "    .dataframe thead th {\n",
       "        text-align: right;\n",
       "    }\n",
       "</style>\n",
       "<table border=\"1\" class=\"dataframe\">\n",
       "  <thead>\n",
       "    <tr style=\"text-align: right;\">\n",
       "      <th></th>\n",
       "      <th>วันเดือนปี</th>\n",
       "      <th>ล่าสุด</th>\n",
       "      <th>ราคาเปิด</th>\n",
       "      <th>สูงสุด</th>\n",
       "      <th>ต่ำสุด</th>\n",
       "      <th>ปริมาณ</th>\n",
       "      <th>% เปลี่ยน</th>\n",
       "    </tr>\n",
       "  </thead>\n",
       "  <tbody>\n",
       "    <tr>\n",
       "      <th>0</th>\n",
       "      <td>01/01/2021</td>\n",
       "      <td>1,898.10</td>\n",
       "      <td>1,897.69</td>\n",
       "      <td>1,899.12</td>\n",
       "      <td>1,897.39</td>\n",
       "      <td>NaN</td>\n",
       "      <td>0.09%</td>\n",
       "    </tr>\n",
       "    <tr>\n",
       "      <th>1</th>\n",
       "      <td>01/04/2021</td>\n",
       "      <td>1,942.28</td>\n",
       "      <td>1,906.05</td>\n",
       "      <td>1,944.65</td>\n",
       "      <td>1,905.36</td>\n",
       "      <td>NaN</td>\n",
       "      <td>2.33%</td>\n",
       "    </tr>\n",
       "    <tr>\n",
       "      <th>2</th>\n",
       "      <td>01/05/2021</td>\n",
       "      <td>1,949.35</td>\n",
       "      <td>1,942.65</td>\n",
       "      <td>1,953.17</td>\n",
       "      <td>1,934.08</td>\n",
       "      <td>NaN</td>\n",
       "      <td>0.36%</td>\n",
       "    </tr>\n",
       "    <tr>\n",
       "      <th>3</th>\n",
       "      <td>01/06/2021</td>\n",
       "      <td>1,918.81</td>\n",
       "      <td>1,950.30</td>\n",
       "      <td>1,959.60</td>\n",
       "      <td>1,901.11</td>\n",
       "      <td>NaN</td>\n",
       "      <td>-1.57%</td>\n",
       "    </tr>\n",
       "    <tr>\n",
       "      <th>4</th>\n",
       "      <td>01/07/2021</td>\n",
       "      <td>1,912.50</td>\n",
       "      <td>1,919.40</td>\n",
       "      <td>1,927.97</td>\n",
       "      <td>1,906.86</td>\n",
       "      <td>NaN</td>\n",
       "      <td>-0.33%</td>\n",
       "    </tr>\n",
       "    <tr>\n",
       "      <th>...</th>\n",
       "      <td>...</td>\n",
       "      <td>...</td>\n",
       "      <td>...</td>\n",
       "      <td>...</td>\n",
       "      <td>...</td>\n",
       "      <td>...</td>\n",
       "      <td>...</td>\n",
       "    </tr>\n",
       "    <tr>\n",
       "      <th>979</th>\n",
       "      <td>10/07/2024</td>\n",
       "      <td>2,643.58</td>\n",
       "      <td>2,651.20</td>\n",
       "      <td>2,659.91</td>\n",
       "      <td>2,637.70</td>\n",
       "      <td>NaN</td>\n",
       "      <td>-0.33%</td>\n",
       "    </tr>\n",
       "    <tr>\n",
       "      <th>980</th>\n",
       "      <td>10/08/2024</td>\n",
       "      <td>2,621.94</td>\n",
       "      <td>2,643.50</td>\n",
       "      <td>2,653.09</td>\n",
       "      <td>2,604.79</td>\n",
       "      <td>NaN</td>\n",
       "      <td>-0.82%</td>\n",
       "    </tr>\n",
       "    <tr>\n",
       "      <th>981</th>\n",
       "      <td>10/09/2024</td>\n",
       "      <td>2,607.77</td>\n",
       "      <td>2,620.19</td>\n",
       "      <td>2,624.65</td>\n",
       "      <td>2,605.18</td>\n",
       "      <td>NaN</td>\n",
       "      <td>-0.54%</td>\n",
       "    </tr>\n",
       "    <tr>\n",
       "      <th>982</th>\n",
       "      <td>10/10/2024</td>\n",
       "      <td>2,633.27</td>\n",
       "      <td>2,608.65</td>\n",
       "      <td>2,635.69</td>\n",
       "      <td>2,604.18</td>\n",
       "      <td>NaN</td>\n",
       "      <td>0.98%</td>\n",
       "    </tr>\n",
       "    <tr>\n",
       "      <th>983</th>\n",
       "      <td>10/11/2024</td>\n",
       "      <td>2,633.53</td>\n",
       "      <td>2,633.60</td>\n",
       "      <td>2,634.38</td>\n",
       "      <td>2,632.11</td>\n",
       "      <td>NaN</td>\n",
       "      <td>0.01%</td>\n",
       "    </tr>\n",
       "  </tbody>\n",
       "</table>\n",
       "<p>984 rows × 7 columns</p>\n",
       "</div>"
      ],
      "text/plain": [
       "     วันเดือนปี    ล่าสุด  ราคาเปิด    สูงสุด    ต่ำสุด  ปริมาณ % เปลี่ยน\n",
       "0    01/01/2021  1,898.10  1,897.69  1,899.12  1,897.39     NaN     0.09%\n",
       "1    01/04/2021  1,942.28  1,906.05  1,944.65  1,905.36     NaN     2.33%\n",
       "2    01/05/2021  1,949.35  1,942.65  1,953.17  1,934.08     NaN     0.36%\n",
       "3    01/06/2021  1,918.81  1,950.30  1,959.60  1,901.11     NaN    -1.57%\n",
       "4    01/07/2021  1,912.50  1,919.40  1,927.97  1,906.86     NaN    -0.33%\n",
       "..          ...       ...       ...       ...       ...     ...       ...\n",
       "979  10/07/2024  2,643.58  2,651.20  2,659.91  2,637.70     NaN    -0.33%\n",
       "980  10/08/2024  2,621.94  2,643.50  2,653.09  2,604.79     NaN    -0.82%\n",
       "981  10/09/2024  2,607.77  2,620.19  2,624.65  2,605.18     NaN    -0.54%\n",
       "982  10/10/2024  2,633.27  2,608.65  2,635.69  2,604.18     NaN     0.98%\n",
       "983  10/11/2024  2,633.53  2,633.60  2,634.38  2,632.11     NaN     0.01%\n",
       "\n",
       "[984 rows x 7 columns]"
      ]
     },
     "execution_count": 8,
     "metadata": {},
     "output_type": "execute_result"
    }
   ],
   "source": [
    "XAU_data"
   ]
  },
  {
   "cell_type": "code",
   "execution_count": 9,
   "id": "d215141a-b707-4b3e-8c34-cd0a449dd8d2",
   "metadata": {
    "execution": {
     "iopub.execute_input": "2024-10-11T00:59:54.376442Z",
     "iopub.status.busy": "2024-10-11T00:59:54.376442Z",
     "iopub.status.idle": "2024-10-11T00:59:54.962736Z",
     "shell.execute_reply": "2024-10-11T00:59:54.962736Z",
     "shell.execute_reply.started": "2024-10-11T00:59:54.376442Z"
    }
   },
   "outputs": [],
   "source": [
    "XAU_data = XAU_data.drop(columns=['ปริมาณ'])"
   ]
  },
  {
   "cell_type": "code",
   "execution_count": 16,
   "id": "4eb16c5a-fbe9-4ce7-ac10-b38eecfedf71",
   "metadata": {
    "execution": {
     "iopub.execute_input": "2024-10-11T01:05:16.478547Z",
     "iopub.status.busy": "2024-10-11T01:05:16.478547Z",
     "iopub.status.idle": "2024-10-11T01:05:16.500076Z",
     "shell.execute_reply": "2024-10-11T01:05:16.500076Z",
     "shell.execute_reply.started": "2024-10-11T01:05:16.478547Z"
    }
   },
   "outputs": [],
   "source": [
    "XAU_data['วันเดือนปี'] = pd.to_datetime(XAU_data['วันเดือนปี'], format='%m/%d/%Y')\n",
    "XAU_data['วันเดือนปี'] = XAU_data['วันเดือนปี'].dt.strftime('%Y-%m-%d')"
   ]
  },
  {
   "cell_type": "code",
   "execution_count": 19,
   "id": "74159114-ccde-4cb4-b12f-d509fccef46f",
   "metadata": {
    "execution": {
     "iopub.execute_input": "2024-10-11T01:05:36.314040Z",
     "iopub.status.busy": "2024-10-11T01:05:36.314040Z",
     "iopub.status.idle": "2024-10-11T01:05:36.323653Z",
     "shell.execute_reply": "2024-10-11T01:05:36.323653Z",
     "shell.execute_reply.started": "2024-10-11T01:05:36.314040Z"
    }
   },
   "outputs": [],
   "source": [
    "XAU_train_data = XAU_data[XAU_data['วันเดือนปี'] <= '2023-12-31']"
   ]
  },
  {
   "cell_type": "code",
   "execution_count": 20,
   "id": "9589b56d-75fa-43a1-99ad-c2b414a16bd3",
   "metadata": {
    "execution": {
     "iopub.execute_input": "2024-10-11T01:05:36.644601Z",
     "iopub.status.busy": "2024-10-11T01:05:36.644601Z",
     "iopub.status.idle": "2024-10-11T01:05:36.670698Z",
     "shell.execute_reply": "2024-10-11T01:05:36.669696Z",
     "shell.execute_reply.started": "2024-10-11T01:05:36.644601Z"
    }
   },
   "outputs": [
    {
     "data": {
      "text/html": [
       "<div>\n",
       "<style scoped>\n",
       "    .dataframe tbody tr th:only-of-type {\n",
       "        vertical-align: middle;\n",
       "    }\n",
       "\n",
       "    .dataframe tbody tr th {\n",
       "        vertical-align: top;\n",
       "    }\n",
       "\n",
       "    .dataframe thead th {\n",
       "        text-align: right;\n",
       "    }\n",
       "</style>\n",
       "<table border=\"1\" class=\"dataframe\">\n",
       "  <thead>\n",
       "    <tr style=\"text-align: right;\">\n",
       "      <th></th>\n",
       "      <th>วันเดือนปี</th>\n",
       "      <th>ล่าสุด</th>\n",
       "      <th>ราคาเปิด</th>\n",
       "      <th>สูงสุด</th>\n",
       "      <th>ต่ำสุด</th>\n",
       "      <th>% เปลี่ยน</th>\n",
       "    </tr>\n",
       "  </thead>\n",
       "  <tbody>\n",
       "    <tr>\n",
       "      <th>0</th>\n",
       "      <td>2021-01-01</td>\n",
       "      <td>1,898.10</td>\n",
       "      <td>1,897.69</td>\n",
       "      <td>1,899.12</td>\n",
       "      <td>1,897.39</td>\n",
       "      <td>0.09%</td>\n",
       "    </tr>\n",
       "    <tr>\n",
       "      <th>1</th>\n",
       "      <td>2021-01-04</td>\n",
       "      <td>1,942.28</td>\n",
       "      <td>1,906.05</td>\n",
       "      <td>1,944.65</td>\n",
       "      <td>1,905.36</td>\n",
       "      <td>2.33%</td>\n",
       "    </tr>\n",
       "    <tr>\n",
       "      <th>2</th>\n",
       "      <td>2021-01-05</td>\n",
       "      <td>1,949.35</td>\n",
       "      <td>1,942.65</td>\n",
       "      <td>1,953.17</td>\n",
       "      <td>1,934.08</td>\n",
       "      <td>0.36%</td>\n",
       "    </tr>\n",
       "    <tr>\n",
       "      <th>3</th>\n",
       "      <td>2021-01-06</td>\n",
       "      <td>1,918.81</td>\n",
       "      <td>1,950.30</td>\n",
       "      <td>1,959.60</td>\n",
       "      <td>1,901.11</td>\n",
       "      <td>-1.57%</td>\n",
       "    </tr>\n",
       "    <tr>\n",
       "      <th>4</th>\n",
       "      <td>2021-01-07</td>\n",
       "      <td>1,912.50</td>\n",
       "      <td>1,919.40</td>\n",
       "      <td>1,927.97</td>\n",
       "      <td>1,906.86</td>\n",
       "      <td>-0.33%</td>\n",
       "    </tr>\n",
       "    <tr>\n",
       "      <th>...</th>\n",
       "      <td>...</td>\n",
       "      <td>...</td>\n",
       "      <td>...</td>\n",
       "      <td>...</td>\n",
       "      <td>...</td>\n",
       "      <td>...</td>\n",
       "    </tr>\n",
       "    <tr>\n",
       "      <th>775</th>\n",
       "      <td>2023-12-25</td>\n",
       "      <td>2,054.93</td>\n",
       "      <td>2,054.32</td>\n",
       "      <td>2,058.36</td>\n",
       "      <td>2,053.96</td>\n",
       "      <td>0.10%</td>\n",
       "    </tr>\n",
       "    <tr>\n",
       "      <th>776</th>\n",
       "      <td>2023-12-26</td>\n",
       "      <td>2,066.60</td>\n",
       "      <td>2,055.73</td>\n",
       "      <td>2,068.65</td>\n",
       "      <td>2,053.59</td>\n",
       "      <td>0.57%</td>\n",
       "    </tr>\n",
       "    <tr>\n",
       "      <th>777</th>\n",
       "      <td>2023-12-27</td>\n",
       "      <td>2,077.16</td>\n",
       "      <td>2,066.70</td>\n",
       "      <td>2,084.59</td>\n",
       "      <td>2,061.00</td>\n",
       "      <td>0.51%</td>\n",
       "    </tr>\n",
       "    <tr>\n",
       "      <th>778</th>\n",
       "      <td>2023-12-28</td>\n",
       "      <td>2,064.86</td>\n",
       "      <td>2,077.34</td>\n",
       "      <td>2,088.54</td>\n",
       "      <td>2,065.89</td>\n",
       "      <td>-0.59%</td>\n",
       "    </tr>\n",
       "    <tr>\n",
       "      <th>779</th>\n",
       "      <td>2023-12-29</td>\n",
       "      <td>2,062.59</td>\n",
       "      <td>2,065.15</td>\n",
       "      <td>2,075.15</td>\n",
       "      <td>2,057.75</td>\n",
       "      <td>-0.11%</td>\n",
       "    </tr>\n",
       "  </tbody>\n",
       "</table>\n",
       "<p>780 rows × 6 columns</p>\n",
       "</div>"
      ],
      "text/plain": [
       "     วันเดือนปี    ล่าสุด  ราคาเปิด    สูงสุด    ต่ำสุด % เปลี่ยน\n",
       "0    2021-01-01  1,898.10  1,897.69  1,899.12  1,897.39     0.09%\n",
       "1    2021-01-04  1,942.28  1,906.05  1,944.65  1,905.36     2.33%\n",
       "2    2021-01-05  1,949.35  1,942.65  1,953.17  1,934.08     0.36%\n",
       "3    2021-01-06  1,918.81  1,950.30  1,959.60  1,901.11    -1.57%\n",
       "4    2021-01-07  1,912.50  1,919.40  1,927.97  1,906.86    -0.33%\n",
       "..          ...       ...       ...       ...       ...       ...\n",
       "775  2023-12-25  2,054.93  2,054.32  2,058.36  2,053.96     0.10%\n",
       "776  2023-12-26  2,066.60  2,055.73  2,068.65  2,053.59     0.57%\n",
       "777  2023-12-27  2,077.16  2,066.70  2,084.59  2,061.00     0.51%\n",
       "778  2023-12-28  2,064.86  2,077.34  2,088.54  2,065.89    -0.59%\n",
       "779  2023-12-29  2,062.59  2,065.15  2,075.15  2,057.75    -0.11%\n",
       "\n",
       "[780 rows x 6 columns]"
      ]
     },
     "execution_count": 20,
     "metadata": {},
     "output_type": "execute_result"
    }
   ],
   "source": [
    "XAU_train_data"
   ]
  },
  {
   "cell_type": "code",
   "execution_count": 21,
   "id": "b69e6665-1848-4e67-b59c-42c855083f85",
   "metadata": {
    "execution": {
     "iopub.execute_input": "2024-10-11T01:06:37.801765Z",
     "iopub.status.busy": "2024-10-11T01:06:37.801765Z",
     "iopub.status.idle": "2024-10-11T01:06:37.811628Z",
     "shell.execute_reply": "2024-10-11T01:06:37.811628Z",
     "shell.execute_reply.started": "2024-10-11T01:06:37.801765Z"
    }
   },
   "outputs": [],
   "source": [
    "XAU_test_data = XAU_data[XAU_data['วันเดือนปี'] > '2023-12-31']"
   ]
  },
  {
   "cell_type": "code",
   "execution_count": 22,
   "id": "b6c2e625-9f88-446d-8e80-4015835d9d80",
   "metadata": {
    "execution": {
     "iopub.execute_input": "2024-10-11T01:06:44.126541Z",
     "iopub.status.busy": "2024-10-11T01:06:44.121857Z",
     "iopub.status.idle": "2024-10-11T01:06:44.136640Z",
     "shell.execute_reply": "2024-10-11T01:06:44.136640Z",
     "shell.execute_reply.started": "2024-10-11T01:06:44.126541Z"
    },
    "scrolled": true
   },
   "outputs": [
    {
     "data": {
      "text/html": [
       "<div>\n",
       "<style scoped>\n",
       "    .dataframe tbody tr th:only-of-type {\n",
       "        vertical-align: middle;\n",
       "    }\n",
       "\n",
       "    .dataframe tbody tr th {\n",
       "        vertical-align: top;\n",
       "    }\n",
       "\n",
       "    .dataframe thead th {\n",
       "        text-align: right;\n",
       "    }\n",
       "</style>\n",
       "<table border=\"1\" class=\"dataframe\">\n",
       "  <thead>\n",
       "    <tr style=\"text-align: right;\">\n",
       "      <th></th>\n",
       "      <th>วันเดือนปี</th>\n",
       "      <th>ล่าสุด</th>\n",
       "      <th>ราคาเปิด</th>\n",
       "      <th>สูงสุด</th>\n",
       "      <th>ต่ำสุด</th>\n",
       "      <th>% เปลี่ยน</th>\n",
       "    </tr>\n",
       "  </thead>\n",
       "  <tbody>\n",
       "    <tr>\n",
       "      <th>780</th>\n",
       "      <td>2024-01-01</td>\n",
       "      <td>2,063.80</td>\n",
       "      <td>2,064.24</td>\n",
       "      <td>2,074.90</td>\n",
       "      <td>2,063.30</td>\n",
       "      <td>0.06%</td>\n",
       "    </tr>\n",
       "    <tr>\n",
       "      <th>781</th>\n",
       "      <td>2024-01-02</td>\n",
       "      <td>2,058.88</td>\n",
       "      <td>2,062.90</td>\n",
       "      <td>2,079.02</td>\n",
       "      <td>2,056.04</td>\n",
       "      <td>-0.24%</td>\n",
       "    </tr>\n",
       "    <tr>\n",
       "      <th>782</th>\n",
       "      <td>2024-01-03</td>\n",
       "      <td>2,040.78</td>\n",
       "      <td>2,059.15</td>\n",
       "      <td>2,066.12</td>\n",
       "      <td>2,030.68</td>\n",
       "      <td>-0.88%</td>\n",
       "    </tr>\n",
       "    <tr>\n",
       "      <th>783</th>\n",
       "      <td>2024-01-04</td>\n",
       "      <td>2,043.26</td>\n",
       "      <td>2,041.34</td>\n",
       "      <td>2,051.40</td>\n",
       "      <td>2,036.24</td>\n",
       "      <td>0.12%</td>\n",
       "    </tr>\n",
       "    <tr>\n",
       "      <th>784</th>\n",
       "      <td>2024-01-05</td>\n",
       "      <td>2,045.50</td>\n",
       "      <td>2,043.69</td>\n",
       "      <td>2,064.03</td>\n",
       "      <td>2,024.49</td>\n",
       "      <td>0.11%</td>\n",
       "    </tr>\n",
       "    <tr>\n",
       "      <th>...</th>\n",
       "      <td>...</td>\n",
       "      <td>...</td>\n",
       "      <td>...</td>\n",
       "      <td>...</td>\n",
       "      <td>...</td>\n",
       "      <td>...</td>\n",
       "    </tr>\n",
       "    <tr>\n",
       "      <th>979</th>\n",
       "      <td>2024-10-07</td>\n",
       "      <td>2,643.58</td>\n",
       "      <td>2,651.20</td>\n",
       "      <td>2,659.91</td>\n",
       "      <td>2,637.70</td>\n",
       "      <td>-0.33%</td>\n",
       "    </tr>\n",
       "    <tr>\n",
       "      <th>980</th>\n",
       "      <td>2024-10-08</td>\n",
       "      <td>2,621.94</td>\n",
       "      <td>2,643.50</td>\n",
       "      <td>2,653.09</td>\n",
       "      <td>2,604.79</td>\n",
       "      <td>-0.82%</td>\n",
       "    </tr>\n",
       "    <tr>\n",
       "      <th>981</th>\n",
       "      <td>2024-10-09</td>\n",
       "      <td>2,607.77</td>\n",
       "      <td>2,620.19</td>\n",
       "      <td>2,624.65</td>\n",
       "      <td>2,605.18</td>\n",
       "      <td>-0.54%</td>\n",
       "    </tr>\n",
       "    <tr>\n",
       "      <th>982</th>\n",
       "      <td>2024-10-10</td>\n",
       "      <td>2,633.27</td>\n",
       "      <td>2,608.65</td>\n",
       "      <td>2,635.69</td>\n",
       "      <td>2,604.18</td>\n",
       "      <td>0.98%</td>\n",
       "    </tr>\n",
       "    <tr>\n",
       "      <th>983</th>\n",
       "      <td>2024-10-11</td>\n",
       "      <td>2,633.53</td>\n",
       "      <td>2,633.60</td>\n",
       "      <td>2,634.38</td>\n",
       "      <td>2,632.11</td>\n",
       "      <td>0.01%</td>\n",
       "    </tr>\n",
       "  </tbody>\n",
       "</table>\n",
       "<p>204 rows × 6 columns</p>\n",
       "</div>"
      ],
      "text/plain": [
       "     วันเดือนปี    ล่าสุด  ราคาเปิด    สูงสุด    ต่ำสุด % เปลี่ยน\n",
       "780  2024-01-01  2,063.80  2,064.24  2,074.90  2,063.30     0.06%\n",
       "781  2024-01-02  2,058.88  2,062.90  2,079.02  2,056.04    -0.24%\n",
       "782  2024-01-03  2,040.78  2,059.15  2,066.12  2,030.68    -0.88%\n",
       "783  2024-01-04  2,043.26  2,041.34  2,051.40  2,036.24     0.12%\n",
       "784  2024-01-05  2,045.50  2,043.69  2,064.03  2,024.49     0.11%\n",
       "..          ...       ...       ...       ...       ...       ...\n",
       "979  2024-10-07  2,643.58  2,651.20  2,659.91  2,637.70    -0.33%\n",
       "980  2024-10-08  2,621.94  2,643.50  2,653.09  2,604.79    -0.82%\n",
       "981  2024-10-09  2,607.77  2,620.19  2,624.65  2,605.18    -0.54%\n",
       "982  2024-10-10  2,633.27  2,608.65  2,635.69  2,604.18     0.98%\n",
       "983  2024-10-11  2,633.53  2,633.60  2,634.38  2,632.11     0.01%\n",
       "\n",
       "[204 rows x 6 columns]"
      ]
     },
     "execution_count": 22,
     "metadata": {},
     "output_type": "execute_result"
    }
   ],
   "source": [
    "XAU_test_data"
   ]
  },
  {
   "cell_type": "code",
   "execution_count": 49,
   "id": "9423cc4c-7899-46ea-b576-f5f9ffa13174",
   "metadata": {
    "execution": {
     "iopub.execute_input": "2024-10-11T01:20:40.284546Z",
     "iopub.status.busy": "2024-10-11T01:20:40.284546Z",
     "iopub.status.idle": "2024-10-11T01:20:40.294135Z",
     "shell.execute_reply": "2024-10-11T01:20:40.294135Z",
     "shell.execute_reply.started": "2024-10-11T01:20:40.284546Z"
    }
   },
   "outputs": [
    {
     "name": "stderr",
     "output_type": "stream",
     "text": [
      "C:\\Users\\temp5\\AppData\\Local\\Temp\\ipykernel_39896\\1747505777.py:1: SettingWithCopyWarning: \n",
      "A value is trying to be set on a copy of a slice from a DataFrame.\n",
      "Try using .loc[row_indexer,col_indexer] = value instead\n",
      "\n",
      "See the caveats in the documentation: https://pandas.pydata.org/pandas-docs/stable/user_guide/indexing.html#returning-a-view-versus-a-copy\n",
      "  XAU_test_data['ล่าสุด'] = XAU_test_data['ล่าสุด'].str.replace(',','').astype(float)\n"
     ]
    }
   ],
   "source": [
    "XAU_test_data['ล่าสุด'] = XAU_test_data['ล่าสุด'].str.replace(',','').astype(float)"
   ]
  },
  {
   "cell_type": "code",
   "execution_count": 37,
   "id": "12349c45-311a-49a6-9f8f-9790d2b9e8ac",
   "metadata": {
    "execution": {
     "iopub.execute_input": "2024-10-11T01:14:07.168755Z",
     "iopub.status.busy": "2024-10-11T01:14:07.167759Z",
     "iopub.status.idle": "2024-10-11T01:14:07.194818Z",
     "shell.execute_reply": "2024-10-11T01:14:07.194818Z",
     "shell.execute_reply.started": "2024-10-11T01:14:07.168755Z"
    }
   },
   "outputs": [
    {
     "name": "stderr",
     "output_type": "stream",
     "text": [
      "C:\\Users\\temp5\\AppData\\Local\\Temp\\ipykernel_39896\\806847701.py:1: SettingWithCopyWarning: \n",
      "A value is trying to be set on a copy of a slice from a DataFrame.\n",
      "Try using .loc[row_indexer,col_indexer] = value instead\n",
      "\n",
      "See the caveats in the documentation: https://pandas.pydata.org/pandas-docs/stable/user_guide/indexing.html#returning-a-view-versus-a-copy\n",
      "  XAU_train_data['ล่าสุด'] = XAU_train_data['ล่าสุด'].str.replace(',','').astype(float)\n"
     ]
    }
   ],
   "source": [
    "XAU_train_data['ล่าสุด'] = XAU_train_data['ล่าสุด'].str.replace(',','').astype(float)"
   ]
  },
  {
   "cell_type": "code",
   "execution_count": 38,
   "id": "91706b25-7375-4ae6-9cca-35b58447b218",
   "metadata": {
    "execution": {
     "iopub.execute_input": "2024-10-11T01:14:12.330454Z",
     "iopub.status.busy": "2024-10-11T01:14:12.330454Z",
     "iopub.status.idle": "2024-10-11T01:14:12.351181Z",
     "shell.execute_reply": "2024-10-11T01:14:12.351181Z",
     "shell.execute_reply.started": "2024-10-11T01:14:12.330454Z"
    }
   },
   "outputs": [
    {
     "name": "stderr",
     "output_type": "stream",
     "text": [
      "C:\\Users\\temp5\\AppData\\Local\\Temp\\ipykernel_39896\\3976912722.py:1: SettingWithCopyWarning: \n",
      "A value is trying to be set on a copy of a slice from a DataFrame.\n",
      "Try using .loc[row_indexer,col_indexer] = value instead\n",
      "\n",
      "See the caveats in the documentation: https://pandas.pydata.org/pandas-docs/stable/user_guide/indexing.html#returning-a-view-versus-a-copy\n",
      "  XAU_train_data['%CHANGE'] = (XAU_train_data['ล่าสุด'] - XAU_train_data['ล่าสุด'].shift(1)) / XAU_train_data['ล่าสุด']\n"
     ]
    }
   ],
   "source": [
    "XAU_train_data['%CHANGE'] = (XAU_train_data['ล่าสุด'] - XAU_train_data['ล่าสุด'].shift(1)) / XAU_train_data['ล่าสุด']"
   ]
  },
  {
   "cell_type": "code",
   "execution_count": 55,
   "id": "78f954a0-16bb-46d3-aca7-8d22c77bce66",
   "metadata": {
    "execution": {
     "iopub.execute_input": "2024-10-11T01:23:33.773498Z",
     "iopub.status.busy": "2024-10-11T01:23:33.773498Z",
     "iopub.status.idle": "2024-10-11T01:23:33.784762Z",
     "shell.execute_reply": "2024-10-11T01:23:33.783751Z",
     "shell.execute_reply.started": "2024-10-11T01:23:33.773498Z"
    }
   },
   "outputs": [
    {
     "name": "stderr",
     "output_type": "stream",
     "text": [
      "C:\\Users\\temp5\\AppData\\Local\\Temp\\ipykernel_39896\\2435689128.py:1: SettingWithCopyWarning: \n",
      "A value is trying to be set on a copy of a slice from a DataFrame.\n",
      "Try using .loc[row_indexer,col_indexer] = value instead\n",
      "\n",
      "See the caveats in the documentation: https://pandas.pydata.org/pandas-docs/stable/user_guide/indexing.html#returning-a-view-versus-a-copy\n",
      "  XAU_test_data['%CHANGE'] = (XAU_test_data['ล่าสุด'] - XAU_test_data['ล่าสุด'].shift(1)) / XAU_test_data['ล่าสุด']\n"
     ]
    }
   ],
   "source": [
    "XAU_test_data['%CHANGE'] = (XAU_test_data['ล่าสุด'] - XAU_test_data['ล่าสุด'].shift(1)) / XAU_test_data['ล่าสุด']"
   ]
  },
  {
   "cell_type": "code",
   "execution_count": 39,
   "id": "9414d540-9c00-47bc-b2f3-898d8cadd864",
   "metadata": {
    "execution": {
     "iopub.execute_input": "2024-10-11T01:14:26.064837Z",
     "iopub.status.busy": "2024-10-11T01:14:26.063869Z",
     "iopub.status.idle": "2024-10-11T01:14:26.073950Z",
     "shell.execute_reply": "2024-10-11T01:14:26.072950Z",
     "shell.execute_reply.started": "2024-10-11T01:14:26.064837Z"
    }
   },
   "outputs": [
    {
     "name": "stderr",
     "output_type": "stream",
     "text": [
      "C:\\Users\\temp5\\AppData\\Local\\Temp\\ipykernel_39896\\2257045211.py:1: SettingWithCopyWarning: \n",
      "A value is trying to be set on a copy of a slice from a DataFrame.\n",
      "Try using .loc[row_indexer,col_indexer] = value instead\n",
      "\n",
      "See the caveats in the documentation: https://pandas.pydata.org/pandas-docs/stable/user_guide/indexing.html#returning-a-view-versus-a-copy\n",
      "  XAU_train_data['Decision'] = ['0' if i > 0 else '1' for i in XAU_train_data['%CHANGE']]\n"
     ]
    }
   ],
   "source": [
    "XAU_train_data['Decision'] = ['0' if i > 0 else '1' for i in XAU_train_data['%CHANGE']]"
   ]
  },
  {
   "cell_type": "code",
   "execution_count": 42,
   "id": "c6d94f83-9b41-439b-b447-bb1646e94aa4",
   "metadata": {
    "execution": {
     "iopub.execute_input": "2024-10-11T01:15:32.249810Z",
     "iopub.status.busy": "2024-10-11T01:15:32.249810Z",
     "iopub.status.idle": "2024-10-11T01:15:32.262965Z",
     "shell.execute_reply": "2024-10-11T01:15:32.262965Z",
     "shell.execute_reply.started": "2024-10-11T01:15:32.249810Z"
    }
   },
   "outputs": [
    {
     "data": {
      "text/html": [
       "<div>\n",
       "<style scoped>\n",
       "    .dataframe tbody tr th:only-of-type {\n",
       "        vertical-align: middle;\n",
       "    }\n",
       "\n",
       "    .dataframe tbody tr th {\n",
       "        vertical-align: top;\n",
       "    }\n",
       "\n",
       "    .dataframe thead th {\n",
       "        text-align: right;\n",
       "    }\n",
       "</style>\n",
       "<table border=\"1\" class=\"dataframe\">\n",
       "  <thead>\n",
       "    <tr style=\"text-align: right;\">\n",
       "      <th></th>\n",
       "      <th>วันเดือนปี</th>\n",
       "      <th>ล่าสุด</th>\n",
       "      <th>ราคาเปิด</th>\n",
       "      <th>สูงสุด</th>\n",
       "      <th>ต่ำสุด</th>\n",
       "      <th>% เปลี่ยน</th>\n",
       "      <th>%CHANGE</th>\n",
       "      <th>Decision</th>\n",
       "    </tr>\n",
       "  </thead>\n",
       "  <tbody>\n",
       "    <tr>\n",
       "      <th>0</th>\n",
       "      <td>2021-01-01</td>\n",
       "      <td>1898.10</td>\n",
       "      <td>1,897.69</td>\n",
       "      <td>1,899.12</td>\n",
       "      <td>1,897.39</td>\n",
       "      <td>0.09%</td>\n",
       "      <td>0.000000</td>\n",
       "      <td>1</td>\n",
       "    </tr>\n",
       "    <tr>\n",
       "      <th>1</th>\n",
       "      <td>2021-01-04</td>\n",
       "      <td>1942.28</td>\n",
       "      <td>1,906.05</td>\n",
       "      <td>1,944.65</td>\n",
       "      <td>1,905.36</td>\n",
       "      <td>2.33%</td>\n",
       "      <td>0.022746</td>\n",
       "      <td>0</td>\n",
       "    </tr>\n",
       "    <tr>\n",
       "      <th>2</th>\n",
       "      <td>2021-01-05</td>\n",
       "      <td>1949.35</td>\n",
       "      <td>1,942.65</td>\n",
       "      <td>1,953.17</td>\n",
       "      <td>1,934.08</td>\n",
       "      <td>0.36%</td>\n",
       "      <td>0.003627</td>\n",
       "      <td>0</td>\n",
       "    </tr>\n",
       "    <tr>\n",
       "      <th>3</th>\n",
       "      <td>2021-01-06</td>\n",
       "      <td>1918.81</td>\n",
       "      <td>1,950.30</td>\n",
       "      <td>1,959.60</td>\n",
       "      <td>1,901.11</td>\n",
       "      <td>-1.57%</td>\n",
       "      <td>-0.015916</td>\n",
       "      <td>1</td>\n",
       "    </tr>\n",
       "    <tr>\n",
       "      <th>4</th>\n",
       "      <td>2021-01-07</td>\n",
       "      <td>1912.50</td>\n",
       "      <td>1,919.40</td>\n",
       "      <td>1,927.97</td>\n",
       "      <td>1,906.86</td>\n",
       "      <td>-0.33%</td>\n",
       "      <td>-0.003299</td>\n",
       "      <td>1</td>\n",
       "    </tr>\n",
       "    <tr>\n",
       "      <th>...</th>\n",
       "      <td>...</td>\n",
       "      <td>...</td>\n",
       "      <td>...</td>\n",
       "      <td>...</td>\n",
       "      <td>...</td>\n",
       "      <td>...</td>\n",
       "      <td>...</td>\n",
       "      <td>...</td>\n",
       "    </tr>\n",
       "    <tr>\n",
       "      <th>775</th>\n",
       "      <td>2023-12-25</td>\n",
       "      <td>2054.93</td>\n",
       "      <td>2,054.32</td>\n",
       "      <td>2,058.36</td>\n",
       "      <td>2,053.96</td>\n",
       "      <td>0.10%</td>\n",
       "      <td>0.000949</td>\n",
       "      <td>0</td>\n",
       "    </tr>\n",
       "    <tr>\n",
       "      <th>776</th>\n",
       "      <td>2023-12-26</td>\n",
       "      <td>2066.60</td>\n",
       "      <td>2,055.73</td>\n",
       "      <td>2,068.65</td>\n",
       "      <td>2,053.59</td>\n",
       "      <td>0.57%</td>\n",
       "      <td>0.005647</td>\n",
       "      <td>0</td>\n",
       "    </tr>\n",
       "    <tr>\n",
       "      <th>777</th>\n",
       "      <td>2023-12-27</td>\n",
       "      <td>2077.16</td>\n",
       "      <td>2,066.70</td>\n",
       "      <td>2,084.59</td>\n",
       "      <td>2,061.00</td>\n",
       "      <td>0.51%</td>\n",
       "      <td>0.005084</td>\n",
       "      <td>0</td>\n",
       "    </tr>\n",
       "    <tr>\n",
       "      <th>778</th>\n",
       "      <td>2023-12-28</td>\n",
       "      <td>2064.86</td>\n",
       "      <td>2,077.34</td>\n",
       "      <td>2,088.54</td>\n",
       "      <td>2,065.89</td>\n",
       "      <td>-0.59%</td>\n",
       "      <td>-0.005957</td>\n",
       "      <td>1</td>\n",
       "    </tr>\n",
       "    <tr>\n",
       "      <th>779</th>\n",
       "      <td>2023-12-29</td>\n",
       "      <td>2062.59</td>\n",
       "      <td>2,065.15</td>\n",
       "      <td>2,075.15</td>\n",
       "      <td>2,057.75</td>\n",
       "      <td>-0.11%</td>\n",
       "      <td>-0.001101</td>\n",
       "      <td>1</td>\n",
       "    </tr>\n",
       "  </tbody>\n",
       "</table>\n",
       "<p>780 rows × 8 columns</p>\n",
       "</div>"
      ],
      "text/plain": [
       "     วันเดือนปี   ล่าสุด  ราคาเปิด    สูงสุด    ต่ำสุด % เปลี่ยน   %CHANGE  \\\n",
       "0    2021-01-01  1898.10  1,897.69  1,899.12  1,897.39     0.09%  0.000000   \n",
       "1    2021-01-04  1942.28  1,906.05  1,944.65  1,905.36     2.33%  0.022746   \n",
       "2    2021-01-05  1949.35  1,942.65  1,953.17  1,934.08     0.36%  0.003627   \n",
       "3    2021-01-06  1918.81  1,950.30  1,959.60  1,901.11    -1.57% -0.015916   \n",
       "4    2021-01-07  1912.50  1,919.40  1,927.97  1,906.86    -0.33% -0.003299   \n",
       "..          ...      ...       ...       ...       ...       ...       ...   \n",
       "775  2023-12-25  2054.93  2,054.32  2,058.36  2,053.96     0.10%  0.000949   \n",
       "776  2023-12-26  2066.60  2,055.73  2,068.65  2,053.59     0.57%  0.005647   \n",
       "777  2023-12-27  2077.16  2,066.70  2,084.59  2,061.00     0.51%  0.005084   \n",
       "778  2023-12-28  2064.86  2,077.34  2,088.54  2,065.89    -0.59% -0.005957   \n",
       "779  2023-12-29  2062.59  2,065.15  2,075.15  2,057.75    -0.11% -0.001101   \n",
       "\n",
       "    Decision  \n",
       "0          1  \n",
       "1          0  \n",
       "2          0  \n",
       "3          1  \n",
       "4          1  \n",
       "..       ...  \n",
       "775        0  \n",
       "776        0  \n",
       "777        0  \n",
       "778        1  \n",
       "779        1  \n",
       "\n",
       "[780 rows x 8 columns]"
      ]
     },
     "execution_count": 42,
     "metadata": {},
     "output_type": "execute_result"
    }
   ],
   "source": [
    "XAU_train_data"
   ]
  },
  {
   "cell_type": "code",
   "execution_count": 41,
   "id": "cd4d5033-3c6c-4ef3-a67f-406e35dd9425",
   "metadata": {
    "execution": {
     "iopub.execute_input": "2024-10-11T01:15:29.115443Z",
     "iopub.status.busy": "2024-10-11T01:15:29.115443Z",
     "iopub.status.idle": "2024-10-11T01:15:29.124321Z",
     "shell.execute_reply": "2024-10-11T01:15:29.124321Z",
     "shell.execute_reply.started": "2024-10-11T01:15:29.115443Z"
    }
   },
   "outputs": [
    {
     "name": "stderr",
     "output_type": "stream",
     "text": [
      "C:\\Users\\temp5\\AppData\\Local\\Temp\\ipykernel_39896\\1120076909.py:1: FutureWarning: A value is trying to be set on a copy of a DataFrame or Series through chained assignment using an inplace method.\n",
      "The behavior will change in pandas 3.0. This inplace method will never work because the intermediate object on which we are setting values always behaves as a copy.\n",
      "\n",
      "For example, when doing 'df[col].method(value, inplace=True)', try using 'df.method({col: value}, inplace=True)' or df[col] = df[col].method(value) instead, to perform the operation inplace on the original object.\n",
      "\n",
      "\n",
      "  XAU_train_data['%CHANGE'].fillna(0, inplace=True)\n",
      "C:\\Users\\temp5\\AppData\\Local\\Temp\\ipykernel_39896\\1120076909.py:1: SettingWithCopyWarning: \n",
      "A value is trying to be set on a copy of a slice from a DataFrame\n",
      "\n",
      "See the caveats in the documentation: https://pandas.pydata.org/pandas-docs/stable/user_guide/indexing.html#returning-a-view-versus-a-copy\n",
      "  XAU_train_data['%CHANGE'].fillna(0, inplace=True)\n"
     ]
    }
   ],
   "source": [
    "XAU_train_data['%CHANGE'].fillna(0, inplace=True)"
   ]
  },
  {
   "cell_type": "code",
   "execution_count": 62,
   "id": "5864af88-72e6-40f1-8740-d46c1fe5f3b3",
   "metadata": {
    "execution": {
     "iopub.execute_input": "2024-10-11T01:25:59.837253Z",
     "iopub.status.busy": "2024-10-11T01:25:59.837253Z",
     "iopub.status.idle": "2024-10-11T01:25:59.846587Z",
     "shell.execute_reply": "2024-10-11T01:25:59.846587Z",
     "shell.execute_reply.started": "2024-10-11T01:25:59.837253Z"
    }
   },
   "outputs": [
    {
     "name": "stderr",
     "output_type": "stream",
     "text": [
      "C:\\Users\\temp5\\AppData\\Local\\Temp\\ipykernel_39896\\4233123289.py:1: FutureWarning: A value is trying to be set on a copy of a DataFrame or Series through chained assignment using an inplace method.\n",
      "The behavior will change in pandas 3.0. This inplace method will never work because the intermediate object on which we are setting values always behaves as a copy.\n",
      "\n",
      "For example, when doing 'df[col].method(value, inplace=True)', try using 'df.method({col: value}, inplace=True)' or df[col] = df[col].method(value) instead, to perform the operation inplace on the original object.\n",
      "\n",
      "\n",
      "  XAU_test_data['%CHANGE'].fillna(0, inplace=True)\n",
      "C:\\Users\\temp5\\AppData\\Local\\Temp\\ipykernel_39896\\4233123289.py:1: SettingWithCopyWarning: \n",
      "A value is trying to be set on a copy of a slice from a DataFrame\n",
      "\n",
      "See the caveats in the documentation: https://pandas.pydata.org/pandas-docs/stable/user_guide/indexing.html#returning-a-view-versus-a-copy\n",
      "  XAU_test_data['%CHANGE'].fillna(0, inplace=True)\n"
     ]
    }
   ],
   "source": [
    "XAU_test_data['%CHANGE'].fillna(0, inplace=True)"
   ]
  },
  {
   "cell_type": "code",
   "execution_count": 46,
   "id": "4f98463b-1c95-4e10-8ea2-9554962497e1",
   "metadata": {
    "execution": {
     "iopub.execute_input": "2024-10-11T01:18:59.884144Z",
     "iopub.status.busy": "2024-10-11T01:18:59.884144Z",
     "iopub.status.idle": "2024-10-11T01:18:59.892897Z",
     "shell.execute_reply": "2024-10-11T01:18:59.892897Z",
     "shell.execute_reply.started": "2024-10-11T01:18:59.884144Z"
    }
   },
   "outputs": [],
   "source": [
    "X , y = np.array(XAU_train_data['%CHANGE'].values) , np.array(XAU_train_data['Decision'])"
   ]
  },
  {
   "cell_type": "code",
   "execution_count": 47,
   "id": "823004fe-8f25-4cf0-81f3-6c87dee7404f",
   "metadata": {
    "execution": {
     "iopub.execute_input": "2024-10-11T01:19:00.407901Z",
     "iopub.status.busy": "2024-10-11T01:19:00.407901Z",
     "iopub.status.idle": "2024-10-11T01:19:00.411520Z",
     "shell.execute_reply": "2024-10-11T01:19:00.411520Z",
     "shell.execute_reply.started": "2024-10-11T01:19:00.407901Z"
    }
   },
   "outputs": [],
   "source": [
    "X = X.reshape(-1,1)\n",
    "y = y.reshape(-1,1)"
   ]
  },
  {
   "cell_type": "code",
   "execution_count": 48,
   "id": "7834598e-a770-4a55-a458-bbb8e88b0cca",
   "metadata": {
    "execution": {
     "iopub.execute_input": "2024-10-11T01:19:01.340463Z",
     "iopub.status.busy": "2024-10-11T01:19:01.340463Z",
     "iopub.status.idle": "2024-10-11T01:19:01.658764Z",
     "shell.execute_reply": "2024-10-11T01:19:01.658764Z",
     "shell.execute_reply.started": "2024-10-11T01:19:01.340463Z"
    },
    "scrolled": true
   },
   "outputs": [
    {
     "name": "stdout",
     "output_type": "stream",
     "text": [
      "Accuracy: 99.49%\n",
      "              precision    recall  f1-score   support\n",
      "\n",
      "           0       0.99      1.00      0.99       398\n",
      "           1       1.00      0.99      0.99       382\n",
      "\n",
      "    accuracy                           0.99       780\n",
      "   macro avg       1.00      0.99      0.99       780\n",
      "weighted avg       0.99      0.99      0.99       780\n",
      "\n"
     ]
    },
    {
     "name": "stderr",
     "output_type": "stream",
     "text": [
      "C:\\Users\\temp5\\AppData\\Roaming\\Python\\Python312\\site-packages\\sklearn\\utils\\validation.py:1300: DataConversionWarning: A column-vector y was passed when a 1d array was expected. Please change the shape of y to (n_samples, ), for example using ravel().\n",
      "  y = column_or_1d(y, warn=True)\n"
     ]
    }
   ],
   "source": [
    "import numpy as np\n",
    "from sklearn.model_selection import train_test_split\n",
    "from sklearn.linear_model import LogisticRegression\n",
    "from sklearn.metrics import accuracy_score, classification_report\n",
    "from imblearn.over_sampling import SMOTE\n",
    "\n",
    "X_train, y_train = X ,y\n",
    "smote = SMOTE()\n",
    "X_resampled, y_resampled = smote.fit_resample(X_train, y_train)\n",
    "model = LogisticRegression(class_weight='balanced')\n",
    "\n",
    "model.fit(X_train, y_train)\n",
    "\n",
    "y_pred = model.predict(X_train)\n",
    "\n",
    "accuracy = accuracy_score(y_train, y_pred)\n",
    "print(f'Accuracy: {accuracy * 100:.2f}%')\n",
    "\n",
    "print(classification_report(y_train, y_pred))\n"
   ]
  },
  {
   "cell_type": "code",
   "execution_count": 63,
   "id": "76fc581e-1dc3-456d-a6d6-dfcdad0ad817",
   "metadata": {
    "execution": {
     "iopub.execute_input": "2024-10-11T01:26:04.492595Z",
     "iopub.status.busy": "2024-10-11T01:26:04.492595Z",
     "iopub.status.idle": "2024-10-11T01:26:04.499231Z",
     "shell.execute_reply": "2024-10-11T01:26:04.499231Z",
     "shell.execute_reply.started": "2024-10-11T01:26:04.492595Z"
    }
   },
   "outputs": [],
   "source": [
    "X_test = np.array(XAU_test_data['%CHANGE'].values)"
   ]
  },
  {
   "cell_type": "code",
   "execution_count": 64,
   "id": "ef9c83d3-95aa-40c5-89f2-f7e0bedcf9d4",
   "metadata": {
    "execution": {
     "iopub.execute_input": "2024-10-11T01:26:04.832362Z",
     "iopub.status.busy": "2024-10-11T01:26:04.832362Z",
     "iopub.status.idle": "2024-10-11T01:26:04.844928Z",
     "shell.execute_reply": "2024-10-11T01:26:04.844928Z",
     "shell.execute_reply.started": "2024-10-11T01:26:04.832362Z"
    }
   },
   "outputs": [],
   "source": [
    "X_test = X_test.reshape(-1,1)"
   ]
  },
  {
   "cell_type": "code",
   "execution_count": 65,
   "id": "1ed1fc45-2e45-48eb-bae6-dbeab69df72e",
   "metadata": {
    "execution": {
     "iopub.execute_input": "2024-10-11T01:26:05.165833Z",
     "iopub.status.busy": "2024-10-11T01:26:05.165833Z",
     "iopub.status.idle": "2024-10-11T01:26:05.183187Z",
     "shell.execute_reply": "2024-10-11T01:26:05.182184Z",
     "shell.execute_reply.started": "2024-10-11T01:26:05.165833Z"
    },
    "scrolled": true
   },
   "outputs": [
    {
     "data": {
      "text/plain": [
       "array([[ 0.00000000e+00],\n",
       "       [-2.38964874e-03],\n",
       "       [-8.86915787e-03],\n",
       "       [ 1.21374666e-03],\n",
       "       [ 1.09508678e-03],\n",
       "       [-8.70877387e-03],\n",
       "       [ 8.62243113e-04],\n",
       "       [-3.05920727e-03],\n",
       "       [ 2.31252065e-03],\n",
       "       [ 1.00697021e-02],\n",
       "       [ 2.80848288e-03],\n",
       "       [-1.32669820e-02],\n",
       "       [-1.09038151e-02],\n",
       "       [ 8.38001256e-03],\n",
       "       [ 3.16397991e-03],\n",
       "       [-4.00793670e-03],\n",
       "       [ 3.79555280e-03],\n",
       "       [-7.99964225e-03],\n",
       "       [ 3.54499319e-03],\n",
       "       [-6.98593894e-04],\n",
       "       [ 6.60022148e-03],\n",
       "       [ 2.14623893e-03],\n",
       "       [ 5.25233287e-04],\n",
       "       [ 8.61359975e-03],\n",
       "       [-7.99572253e-03],\n",
       "       [-6.87519448e-03],\n",
       "       [ 5.30101304e-03],\n",
       "       [-6.09570253e-04],\n",
       "       [-5.11513983e-04],\n",
       "       [-4.45616947e-03],\n",
       "       [-2.16359126e-03],\n",
       "       [-1.38846360e-02],\n",
       "       [ 1.30496539e-04],\n",
       "       [ 5.83806116e-03],\n",
       "       [ 4.47568427e-03],\n",
       "       [ 2.24520849e-03],\n",
       "       [ 2.91569683e-03],\n",
       "       [ 7.20991215e-04],\n",
       "       [-4.34758980e-04],\n",
       "       [ 5.70314189e-03],\n",
       "       [-2.49180070e-03],\n",
       "       [-5.02552177e-04],\n",
       "       [ 2.44763150e-03],\n",
       "       [ 4.21878977e-03],\n",
       "       [ 1.92714758e-02],\n",
       "       [ 1.49409690e-02],\n",
       "       [ 5.90350403e-03],\n",
       "       [ 9.65419008e-03],\n",
       "       [ 5.03436522e-03],\n",
       "       [ 8.42705659e-03],\n",
       "       [ 2.27265438e-03],\n",
       "       [-1.13438895e-02],\n",
       "       [ 7.54690949e-03],\n",
       "       [-6.19617679e-03],\n",
       "       [-2.53764718e-03],\n",
       "       [ 2.06019472e-03],\n",
       "       [-1.27941851e-03],\n",
       "       [ 1.31429669e-02],\n",
       "       [-2.36150788e-03],\n",
       "       [-7.69817249e-03],\n",
       "       [ 3.36180893e-03],\n",
       "       [ 3.27277401e-03],\n",
       "       [ 7.03731051e-03],\n",
       "       [ 1.71834544e-02],\n",
       "       [ 7.98983274e-03],\n",
       "       [ 1.30432876e-02],\n",
       "       [ 8.29429751e-03],\n",
       "       [-4.25433405e-03],\n",
       "       [ 1.72011161e-02],\n",
       "       [ 4.01472493e-03],\n",
       "       [ 5.81914324e-03],\n",
       "       [-8.48340399e-03],\n",
       "       [ 1.70442096e-02],\n",
       "       [-1.27206701e-02],\n",
       "       [ 1.64028692e-02],\n",
       "       [ 1.34294096e-04],\n",
       "       [-9.32730715e-03],\n",
       "       [ 7.33312309e-03],\n",
       "       [ 5.10364157e-03],\n",
       "       [-2.75803963e-02],\n",
       "       [-1.92952912e-03],\n",
       "       [-2.58655681e-03],\n",
       "       [ 6.84455652e-03],\n",
       "       [ 2.54093732e-03],\n",
       "       [-1.40504789e-03],\n",
       "       [-2.13819747e-02],\n",
       "       [ 1.39479701e-02],\n",
       "       [-6.34310052e-03],\n",
       "       [-7.51664089e-04],\n",
       "       [ 9.47249276e-03],\n",
       "       [-4.22683130e-03],\n",
       "       [-2.22640937e-03],\n",
       "       [ 1.58703770e-02],\n",
       "       [ 6.04201446e-03],\n",
       "       [-1.03122793e-02],\n",
       "       [ 9.29613184e-03],\n",
       "       [ 1.17642621e-02],\n",
       "       [-4.03965596e-03],\n",
       "       [ 1.59220503e-02],\n",
       "       [ 4.21834796e-03],\n",
       "       [-1.43704267e-03],\n",
       "       [-1.82445075e-02],\n",
       "       [-2.14227120e-02],\n",
       "       [ 2.30957768e-03],\n",
       "       [ 7.22325736e-03],\n",
       "       [ 4.32453038e-03],\n",
       "       [-9.48361746e-03],\n",
       "       [ 1.80537772e-03],\n",
       "       [-6.88878671e-03],\n",
       "       [ 9.94745463e-03],\n",
       "       [-9.73931125e-03],\n",
       "       [ 1.15085061e-02],\n",
       "       [ 8.76827425e-03],\n",
       "       [-3.61580837e-02],\n",
       "       [ 7.74257769e-03],\n",
       "       [ 2.44790115e-03],\n",
       "       [ 2.70392457e-03],\n",
       "       [-8.40573292e-03],\n",
       "       [ 1.25743831e-02],\n",
       "       [-5.88648782e-03],\n",
       "       [ 4.06299794e-03],\n",
       "       [-3.65201849e-04],\n",
       "       [ 1.36250175e-02],\n",
       "       [-1.69328633e-02],\n",
       "       [ 5.39664713e-03],\n",
       "       [-6.00256144e-03],\n",
       "       [-9.18225692e-03],\n",
       "       [ 1.26920020e-02],\n",
       "       [-7.48158627e-04],\n",
       "       [ 2.56894112e-03],\n",
       "       [-1.03894766e-03],\n",
       "       [ 1.13664338e-02],\n",
       "       [ 2.54655960e-05],\n",
       "       [ 1.47775836e-02],\n",
       "       [-1.38460234e-02],\n",
       "       [ 2.02235592e-03],\n",
       "       [ 3.15891138e-03],\n",
       "       [ 1.81010278e-02],\n",
       "       [-1.45566444e-03],\n",
       "       [ 4.45899582e-03],\n",
       "       [ 1.88368165e-02],\n",
       "       [-4.14500606e-03],\n",
       "       [-5.48472987e-03],\n",
       "       [-1.84022759e-02],\n",
       "       [-1.30961567e-03],\n",
       "       [ 4.79825337e-03],\n",
       "       [-4.84653339e-03],\n",
       "       [-1.39945020e-02],\n",
       "       [ 8.83227069e-03],\n",
       "       [-8.51674400e-04],\n",
       "       [ 1.03345333e-02],\n",
       "       [ 1.62044034e-02],\n",
       "       [-1.09592626e-03],\n",
       "       [-8.71775352e-04],\n",
       "       [-1.48028160e-02],\n",
       "       [-7.65055224e-03],\n",
       "       [-3.29200136e-03],\n",
       "       [ 1.86339755e-02],\n",
       "       [ 1.71950653e-03],\n",
       "       [ 1.67135201e-02],\n",
       "       [-2.92897044e-03],\n",
       "       [-7.10480299e-03],\n",
       "       [ 3.44448516e-03],\n",
       "       [ 2.04125586e-02],\n",
       "       [-1.34189591e-03],\n",
       "       [ 3.90652971e-03],\n",
       "       [-7.12593802e-04],\n",
       "       [-1.15411410e-02],\n",
       "       [ 1.14566871e-02],\n",
       "       [ 1.91506184e-03],\n",
       "       [ 3.04210222e-03],\n",
       "       [-8.91997203e-03],\n",
       "       [ 7.50838893e-03],\n",
       "       [-7.25121153e-03],\n",
       "       [-1.49642498e-03],\n",
       "       [-2.61958632e-03],\n",
       "       [ 8.33720800e-04],\n",
       "       [ 8.53627520e-03],\n",
       "       [-7.72517751e-03],\n",
       "       [ 3.28110967e-03],\n",
       "       [ 4.32014371e-03],\n",
       "       [-1.86347275e-03],\n",
       "       [ 1.84894968e-02],\n",
       "       [ 6.88919076e-03],\n",
       "       [ 2.35423491e-03],\n",
       "       [-5.08266135e-03],\n",
       "       [-4.04820332e-03],\n",
       "       [ 1.05626179e-02],\n",
       "       [ 1.35318617e-02],\n",
       "       [ 2.45015979e-03],\n",
       "       [ 1.06523130e-02],\n",
       "       [ 4.51667783e-05],\n",
       "       [ 5.01086061e-03],\n",
       "       [-4.60125585e-03],\n",
       "       [-8.91254095e-03],\n",
       "       [ 1.06390969e-02],\n",
       "       [-1.90762863e-03],\n",
       "       [-6.96562371e-04],\n",
       "       [-1.37619003e-03],\n",
       "       [-3.27964351e-03],\n",
       "       [-8.25343067e-03],\n",
       "       [-5.43376141e-03],\n",
       "       [ 9.68377720e-03],\n",
       "       [ 9.87268039e-05]])"
      ]
     },
     "execution_count": 65,
     "metadata": {},
     "output_type": "execute_result"
    }
   ],
   "source": [
    "X_test"
   ]
  },
  {
   "cell_type": "code",
   "execution_count": 66,
   "id": "2b9b315a-1b19-4a6a-a84b-6d7eca7df0ea",
   "metadata": {
    "execution": {
     "iopub.execute_input": "2024-10-11T01:26:06.306557Z",
     "iopub.status.busy": "2024-10-11T01:26:06.306557Z",
     "iopub.status.idle": "2024-10-11T01:26:06.310669Z",
     "shell.execute_reply": "2024-10-11T01:26:06.310669Z",
     "shell.execute_reply.started": "2024-10-11T01:26:06.306557Z"
    },
    "scrolled": true
   },
   "outputs": [],
   "source": [
    "y_pred_xau = model.predict(X_test)"
   ]
  },
  {
   "cell_type": "code",
   "execution_count": 67,
   "id": "7ed52ac6-c43e-412e-97db-aef3a9cfea10",
   "metadata": {
    "execution": {
     "iopub.execute_input": "2024-10-11T01:26:08.498103Z",
     "iopub.status.busy": "2024-10-11T01:26:08.497241Z",
     "iopub.status.idle": "2024-10-11T01:26:08.503812Z",
     "shell.execute_reply": "2024-10-11T01:26:08.503812Z",
     "shell.execute_reply.started": "2024-10-11T01:26:08.498103Z"
    }
   },
   "outputs": [
    {
     "data": {
      "text/plain": [
       "array(['0', '1', '1', '0', '0', '1', '0', '1', '0', '0', '0', '1', '1',\n",
       "       '0', '0', '1', '0', '1', '0', '1', '0', '0', '0', '0', '1', '1',\n",
       "       '0', '1', '1', '1', '1', '1', '0', '0', '0', '0', '0', '0', '1',\n",
       "       '0', '1', '1', '0', '0', '0', '0', '0', '0', '0', '0', '0', '1',\n",
       "       '0', '1', '1', '0', '1', '0', '1', '1', '0', '0', '0', '0', '0',\n",
       "       '0', '0', '1', '0', '0', '0', '1', '0', '1', '0', '0', '1', '0',\n",
       "       '0', '1', '1', '1', '0', '0', '1', '1', '0', '1', '1', '0', '1',\n",
       "       '1', '0', '0', '1', '0', '0', '1', '0', '0', '1', '1', '1', '0',\n",
       "       '0', '0', '1', '0', '1', '0', '1', '0', '0', '1', '0', '0', '0',\n",
       "       '1', '0', '1', '0', '1', '0', '1', '0', '1', '1', '0', '1', '0',\n",
       "       '1', '0', '0', '0', '1', '0', '0', '0', '1', '0', '0', '1', '1',\n",
       "       '1', '1', '0', '1', '1', '0', '1', '0', '0', '1', '1', '1', '1',\n",
       "       '1', '0', '0', '0', '1', '1', '0', '0', '1', '0', '1', '1', '0',\n",
       "       '0', '0', '1', '0', '1', '1', '1', '0', '0', '1', '0', '0', '1',\n",
       "       '0', '0', '0', '1', '1', '0', '0', '0', '0', '0', '0', '1', '1',\n",
       "       '0', '1', '1', '1', '1', '1', '1', '0', '0'], dtype=object)"
      ]
     },
     "execution_count": 67,
     "metadata": {},
     "output_type": "execute_result"
    }
   ],
   "source": [
    "y_pred_xau"
   ]
  },
  {
   "cell_type": "code",
   "execution_count": 69,
   "id": "b2c63459-d0f6-4141-b45b-d0131e1115d9",
   "metadata": {
    "execution": {
     "iopub.execute_input": "2024-10-11T01:26:52.588791Z",
     "iopub.status.busy": "2024-10-11T01:26:52.588791Z",
     "iopub.status.idle": "2024-10-11T01:26:52.600889Z",
     "shell.execute_reply": "2024-10-11T01:26:52.599888Z",
     "shell.execute_reply.started": "2024-10-11T01:26:52.588791Z"
    }
   },
   "outputs": [
    {
     "name": "stderr",
     "output_type": "stream",
     "text": [
      "C:\\Users\\temp5\\AppData\\Local\\Temp\\ipykernel_39896\\2033339019.py:1: SettingWithCopyWarning: \n",
      "A value is trying to be set on a copy of a slice from a DataFrame.\n",
      "Try using .loc[row_indexer,col_indexer] = value instead\n",
      "\n",
      "See the caveats in the documentation: https://pandas.pydata.org/pandas-docs/stable/user_guide/indexing.html#returning-a-view-versus-a-copy\n",
      "  XAU_test_data['Decision'] = y_pred_xau\n"
     ]
    }
   ],
   "source": [
    "XAU_test_data['Decision'] = y_pred_xau"
   ]
  },
  {
   "cell_type": "code",
   "execution_count": 70,
   "id": "02797fe1-cc10-4246-ae6c-2c99a97d4ecb",
   "metadata": {
    "execution": {
     "iopub.execute_input": "2024-10-11T01:26:57.282177Z",
     "iopub.status.busy": "2024-10-11T01:26:57.277175Z",
     "iopub.status.idle": "2024-10-11T01:26:57.294045Z",
     "shell.execute_reply": "2024-10-11T01:26:57.294045Z",
     "shell.execute_reply.started": "2024-10-11T01:26:57.282177Z"
    }
   },
   "outputs": [
    {
     "data": {
      "text/html": [
       "<div>\n",
       "<style scoped>\n",
       "    .dataframe tbody tr th:only-of-type {\n",
       "        vertical-align: middle;\n",
       "    }\n",
       "\n",
       "    .dataframe tbody tr th {\n",
       "        vertical-align: top;\n",
       "    }\n",
       "\n",
       "    .dataframe thead th {\n",
       "        text-align: right;\n",
       "    }\n",
       "</style>\n",
       "<table border=\"1\" class=\"dataframe\">\n",
       "  <thead>\n",
       "    <tr style=\"text-align: right;\">\n",
       "      <th></th>\n",
       "      <th>วันเดือนปี</th>\n",
       "      <th>ล่าสุด</th>\n",
       "      <th>ราคาเปิด</th>\n",
       "      <th>สูงสุด</th>\n",
       "      <th>ต่ำสุด</th>\n",
       "      <th>% เปลี่ยน</th>\n",
       "      <th>%CHANGE</th>\n",
       "      <th>Decision</th>\n",
       "    </tr>\n",
       "  </thead>\n",
       "  <tbody>\n",
       "    <tr>\n",
       "      <th>780</th>\n",
       "      <td>2024-01-01</td>\n",
       "      <td>2063.80</td>\n",
       "      <td>2,064.24</td>\n",
       "      <td>2,074.90</td>\n",
       "      <td>2,063.30</td>\n",
       "      <td>0.06%</td>\n",
       "      <td>0.000000</td>\n",
       "      <td>0</td>\n",
       "    </tr>\n",
       "    <tr>\n",
       "      <th>781</th>\n",
       "      <td>2024-01-02</td>\n",
       "      <td>2058.88</td>\n",
       "      <td>2,062.90</td>\n",
       "      <td>2,079.02</td>\n",
       "      <td>2,056.04</td>\n",
       "      <td>-0.24%</td>\n",
       "      <td>-0.002390</td>\n",
       "      <td>1</td>\n",
       "    </tr>\n",
       "    <tr>\n",
       "      <th>782</th>\n",
       "      <td>2024-01-03</td>\n",
       "      <td>2040.78</td>\n",
       "      <td>2,059.15</td>\n",
       "      <td>2,066.12</td>\n",
       "      <td>2,030.68</td>\n",
       "      <td>-0.88%</td>\n",
       "      <td>-0.008869</td>\n",
       "      <td>1</td>\n",
       "    </tr>\n",
       "    <tr>\n",
       "      <th>783</th>\n",
       "      <td>2024-01-04</td>\n",
       "      <td>2043.26</td>\n",
       "      <td>2,041.34</td>\n",
       "      <td>2,051.40</td>\n",
       "      <td>2,036.24</td>\n",
       "      <td>0.12%</td>\n",
       "      <td>0.001214</td>\n",
       "      <td>0</td>\n",
       "    </tr>\n",
       "    <tr>\n",
       "      <th>784</th>\n",
       "      <td>2024-01-05</td>\n",
       "      <td>2045.50</td>\n",
       "      <td>2,043.69</td>\n",
       "      <td>2,064.03</td>\n",
       "      <td>2,024.49</td>\n",
       "      <td>0.11%</td>\n",
       "      <td>0.001095</td>\n",
       "      <td>0</td>\n",
       "    </tr>\n",
       "    <tr>\n",
       "      <th>...</th>\n",
       "      <td>...</td>\n",
       "      <td>...</td>\n",
       "      <td>...</td>\n",
       "      <td>...</td>\n",
       "      <td>...</td>\n",
       "      <td>...</td>\n",
       "      <td>...</td>\n",
       "      <td>...</td>\n",
       "    </tr>\n",
       "    <tr>\n",
       "      <th>979</th>\n",
       "      <td>2024-10-07</td>\n",
       "      <td>2643.58</td>\n",
       "      <td>2,651.20</td>\n",
       "      <td>2,659.91</td>\n",
       "      <td>2,637.70</td>\n",
       "      <td>-0.33%</td>\n",
       "      <td>-0.003280</td>\n",
       "      <td>1</td>\n",
       "    </tr>\n",
       "    <tr>\n",
       "      <th>980</th>\n",
       "      <td>2024-10-08</td>\n",
       "      <td>2621.94</td>\n",
       "      <td>2,643.50</td>\n",
       "      <td>2,653.09</td>\n",
       "      <td>2,604.79</td>\n",
       "      <td>-0.82%</td>\n",
       "      <td>-0.008253</td>\n",
       "      <td>1</td>\n",
       "    </tr>\n",
       "    <tr>\n",
       "      <th>981</th>\n",
       "      <td>2024-10-09</td>\n",
       "      <td>2607.77</td>\n",
       "      <td>2,620.19</td>\n",
       "      <td>2,624.65</td>\n",
       "      <td>2,605.18</td>\n",
       "      <td>-0.54%</td>\n",
       "      <td>-0.005434</td>\n",
       "      <td>1</td>\n",
       "    </tr>\n",
       "    <tr>\n",
       "      <th>982</th>\n",
       "      <td>2024-10-10</td>\n",
       "      <td>2633.27</td>\n",
       "      <td>2,608.65</td>\n",
       "      <td>2,635.69</td>\n",
       "      <td>2,604.18</td>\n",
       "      <td>0.98%</td>\n",
       "      <td>0.009684</td>\n",
       "      <td>0</td>\n",
       "    </tr>\n",
       "    <tr>\n",
       "      <th>983</th>\n",
       "      <td>2024-10-11</td>\n",
       "      <td>2633.53</td>\n",
       "      <td>2,633.60</td>\n",
       "      <td>2,634.38</td>\n",
       "      <td>2,632.11</td>\n",
       "      <td>0.01%</td>\n",
       "      <td>0.000099</td>\n",
       "      <td>0</td>\n",
       "    </tr>\n",
       "  </tbody>\n",
       "</table>\n",
       "<p>204 rows × 8 columns</p>\n",
       "</div>"
      ],
      "text/plain": [
       "     วันเดือนปี   ล่าสุด  ราคาเปิด    สูงสุด    ต่ำสุด % เปลี่ยน   %CHANGE  \\\n",
       "780  2024-01-01  2063.80  2,064.24  2,074.90  2,063.30     0.06%  0.000000   \n",
       "781  2024-01-02  2058.88  2,062.90  2,079.02  2,056.04    -0.24% -0.002390   \n",
       "782  2024-01-03  2040.78  2,059.15  2,066.12  2,030.68    -0.88% -0.008869   \n",
       "783  2024-01-04  2043.26  2,041.34  2,051.40  2,036.24     0.12%  0.001214   \n",
       "784  2024-01-05  2045.50  2,043.69  2,064.03  2,024.49     0.11%  0.001095   \n",
       "..          ...      ...       ...       ...       ...       ...       ...   \n",
       "979  2024-10-07  2643.58  2,651.20  2,659.91  2,637.70    -0.33% -0.003280   \n",
       "980  2024-10-08  2621.94  2,643.50  2,653.09  2,604.79    -0.82% -0.008253   \n",
       "981  2024-10-09  2607.77  2,620.19  2,624.65  2,605.18    -0.54% -0.005434   \n",
       "982  2024-10-10  2633.27  2,608.65  2,635.69  2,604.18     0.98%  0.009684   \n",
       "983  2024-10-11  2633.53  2,633.60  2,634.38  2,632.11     0.01%  0.000099   \n",
       "\n",
       "    Decision  \n",
       "780        0  \n",
       "781        1  \n",
       "782        1  \n",
       "783        0  \n",
       "784        0  \n",
       "..       ...  \n",
       "979        1  \n",
       "980        1  \n",
       "981        1  \n",
       "982        0  \n",
       "983        0  \n",
       "\n",
       "[204 rows x 8 columns]"
      ]
     },
     "execution_count": 70,
     "metadata": {},
     "output_type": "execute_result"
    }
   ],
   "source": [
    "XAU_test_data"
   ]
  },
  {
   "cell_type": "code",
   "execution_count": 71,
   "id": "6451e1f9-92df-4722-a468-0f0810778a75",
   "metadata": {
    "execution": {
     "iopub.execute_input": "2024-10-11T01:28:49.633086Z",
     "iopub.status.busy": "2024-10-11T01:28:49.633086Z",
     "iopub.status.idle": "2024-10-11T01:28:49.637482Z",
     "shell.execute_reply": "2024-10-11T01:28:49.637482Z",
     "shell.execute_reply.started": "2024-10-11T01:28:49.633086Z"
    }
   },
   "outputs": [],
   "source": [
    "dates = XAU_test_data['วันเดือนปี']\n",
    "predictions = XAU_test_data['Decision'].values\n",
    "gold_prices = XAU_test_data['ล่าสุด'].values"
   ]
  },
  {
   "cell_type": "code",
   "execution_count": 72,
   "id": "f3c4d312-9b40-4342-9099-e5c90d6b4ff4",
   "metadata": {
    "execution": {
     "iopub.execute_input": "2024-10-11T01:28:50.318599Z",
     "iopub.status.busy": "2024-10-11T01:28:50.318599Z",
     "iopub.status.idle": "2024-10-11T01:28:54.537185Z",
     "shell.execute_reply": "2024-10-11T01:28:54.537185Z",
     "shell.execute_reply.started": "2024-10-11T01:28:50.318599Z"
    }
   },
   "outputs": [],
   "source": [
    "import matplotlib.pyplot as plt"
   ]
  },
  {
   "cell_type": "code",
   "execution_count": 74,
   "id": "d112dcde-22a2-41c8-a569-f7f7152f75e4",
   "metadata": {
    "execution": {
     "iopub.execute_input": "2024-10-11T01:29:23.821469Z",
     "iopub.status.busy": "2024-10-11T01:29:23.821469Z",
     "iopub.status.idle": "2024-10-11T01:29:25.082132Z",
     "shell.execute_reply": "2024-10-11T01:29:25.080943Z",
     "shell.execute_reply.started": "2024-10-11T01:29:23.821469Z"
    }
   },
   "outputs": [
    {
     "name": "stderr",
     "output_type": "stream",
     "text": [
      "C:\\Users\\temp5\\AppData\\Local\\Temp\\ipykernel_39896\\4071927227.py:12: UserWarning: No artists with labels found to put in legend.  Note that artists whose label start with an underscore are ignored when legend() is called with no argument.\n",
      "  plt.legend(loc='upper left')\n"
     ]
    },
    {
     "data": {
      "image/png": "[encoded data removed]",
      "text/plain": [
       "<Figure size 1000x600 with 1 Axes>"
      ]
     },
     "metadata": {},
     "output_type": "display_data"
    }
   ],
   "source": [
    "plt.figure(figsize=(10, 6))\n",
    "\n",
    "for i in range(len(XAU_test_data) - 1):\n",
    "    if predictions[i] == '0':\n",
    "        plt.plot(dates[i:i+2], gold_prices[i:i+2], color='green', lw=2, label='Invest' if i == '0' else \"\")\n",
    "    else:\n",
    "        plt.plot(dates[i:i+2], gold_prices[i:i+2], color='red', lw=2, label='Don\\'t Invest' if i == '1' else \"\")\n",
    "\n",
    "plt.xlabel('Day')\n",
    "plt.ylabel('XAU_USD')\n",
    "plt.title('XAU_USD with Investment Decision')\n",
    "plt.legend(loc='upper left')\n",
    "plt.show()"
   ]
  },
  {
   "cell_type": "code",
   "execution_count": null,
   "id": "4eb0b76e-2a1e-4954-9f2a-5ef9434be288",
   "metadata": {},
   "outputs": [],
   "source": []
  },
  {
   "cell_type": "code",
   "execution_count": null,
   "id": "9bba24f2-4fb1-45bc-829c-7aa1738d2fb9",
   "metadata": {},
   "outputs": [],
   "source": []
  }
 ],
 "metadata": {
  "kernelspec": {
   "display_name": "Python 3 (ipykernel)",
   "language": "python",
   "name": "python3"
  },
  "language_info": {
   "codemirror_mode": {
    "name": "ipython",
    "version": 3
   },
   "file_extension": ".py",
   "mimetype": "text/x-python",
   "name": "python",
   "nbconvert_exporter": "python",
   "pygments_lexer": "ipython3",
   "version": "3.12.3"
  }
 },
 "nbformat": 4,
 "nbformat_minor": 5
}
